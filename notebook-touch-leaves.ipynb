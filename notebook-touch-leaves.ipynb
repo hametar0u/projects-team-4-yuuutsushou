{
 "cells": [
  {
   "cell_type": "code",
   "execution_count": 1,
   "id": "09277091",
   "metadata": {
    "execution": {
     "iopub.execute_input": "2022-05-26T17:42:05.017906Z",
     "iopub.status.busy": "2022-05-26T17:42:05.017549Z",
     "iopub.status.idle": "2022-05-26T17:42:10.740277Z",
     "shell.execute_reply": "2022-05-26T17:42:10.739435Z"
    },
    "papermill": {
     "duration": 5.737923,
     "end_time": "2022-05-26T17:42:10.742940",
     "exception": false,
     "start_time": "2022-05-26T17:42:05.005017",
     "status": "completed"
    },
    "tags": []
   },
   "outputs": [
    {
     "name": "stdout",
     "output_type": "stream",
     "text": [
      "Cloning into 'touch-leaves'...\r\n",
      "remote: Enumerating objects: 387, done.\u001b[K\r\n",
      "remote: Counting objects: 100% (119/119), done.\u001b[K\r\n",
      "remote: Compressing objects: 100% (68/68), done.\u001b[K\r\n",
      "remote: Total 387 (delta 58), reused 104 (delta 46), pack-reused 268\u001b[K\r\n",
      "Receiving objects: 100% (387/387), 81.13 MiB | 30.67 MiB/s, done.\r\n",
      "Resolving deltas: 100% (179/179), done.\r\n"
     ]
    }
   ],
   "source": [
    "!git clone https://github.com/hametar0u/touch-leaves.git --branch lr-0.005"
   ]
  },
  {
   "cell_type": "code",
   "execution_count": 2,
   "id": "e65e5333",
   "metadata": {
    "execution": {
     "iopub.execute_input": "2022-05-26T17:42:10.772056Z",
     "iopub.status.busy": "2022-05-26T17:42:10.771840Z",
     "iopub.status.idle": "2022-05-26T17:42:10.777172Z",
     "shell.execute_reply": "2022-05-26T17:42:10.776515Z"
    },
    "papermill": {
     "duration": 0.021831,
     "end_time": "2022-05-26T17:42:10.779150",
     "exception": false,
     "start_time": "2022-05-26T17:42:10.757319",
     "status": "completed"
    },
    "tags": []
   },
   "outputs": [
    {
     "name": "stdout",
     "output_type": "stream",
     "text": [
      "/kaggle/working/touch-leaves\n"
     ]
    }
   ],
   "source": [
    "%cd touch-leaves"
   ]
  },
  {
   "cell_type": "code",
   "execution_count": 3,
   "id": "83ddbd17",
   "metadata": {
    "execution": {
     "iopub.execute_input": "2022-05-26T17:42:10.807738Z",
     "iopub.status.busy": "2022-05-26T17:42:10.807546Z",
     "iopub.status.idle": "2022-05-26T17:42:11.928994Z",
     "shell.execute_reply": "2022-05-26T17:42:11.928238Z"
    },
    "papermill": {
     "duration": 1.13812,
     "end_time": "2022-05-26T17:42:11.931014",
     "exception": false,
     "start_time": "2022-05-26T17:42:10.792894",
     "status": "completed"
    },
    "tags": []
   },
   "outputs": [
    {
     "name": "stdout",
     "output_type": "stream",
     "text": [
      "From https://github.com/hametar0u/touch-leaves\r\n",
      " * branch            torch-save -> FETCH_HEAD\r\n",
      "\r\n",
      "*** Please tell me who you are.\r\n",
      "\r\n",
      "Run\r\n",
      "\r\n",
      "  git config --global user.email \"you@example.com\"\r\n",
      "  git config --global user.name \"Your Name\"\r\n",
      "\r\n",
      "to set your account's default identity.\r\n",
      "Omit --global to set the identity only in this repository.\r\n",
      "\r\n",
      "fatal: unable to auto-detect email address (got 'root@9d3e9f6970db.(none)')\r\n"
     ]
    }
   ],
   "source": [
    "# Restart the notebook after pull\n",
    "!git pull origin torch-save"
   ]
  },
  {
   "cell_type": "code",
   "execution_count": 4,
   "id": "b2bd902a",
   "metadata": {
    "execution": {
     "iopub.execute_input": "2022-05-26T17:42:11.961650Z",
     "iopub.status.busy": "2022-05-26T17:42:11.961430Z",
     "iopub.status.idle": "2022-05-26T19:17:27.765377Z",
     "shell.execute_reply": "2022-05-26T19:17:27.764519Z"
    },
    "papermill": {
     "duration": 5715.822747,
     "end_time": "2022-05-26T19:17:27.768475",
     "exception": false,
     "start_time": "2022-05-26T17:42:11.945728",
     "status": "completed"
    },
    "tags": []
   },
   "outputs": [
    {
     "name": "stdout",
     "output_type": "stream",
     "text": [
      "/kaggle/working/touch-leaves\n",
      "Running on GPU\n",
      "Tesla P100-PCIE-16GB\n",
      "Running on GPU\n",
      "Tesla P100-PCIE-16GB\n"
     ]
    },
    {
     "name": "stderr",
     "output_type": "stream",
     "text": [
      "Downloading: \"https://github.com/pytorch/vision/archive/v0.9.0.zip\" to /root/.cache/torch/hub/v0.9.0.zip\n",
      "Downloading: \"https://download.pytorch.org/models/resnet34-b627a593.pth\" to /root/.cache/torch/hub/checkpoints/resnet34-b627a593.pth\n"
     ]
    },
    {
     "data": {
      "application/vnd.jupyter.widget-view+json": {
       "model_id": "f75e92a9673e4928bbbe7ec2e0a973f9",
       "version_major": 2,
       "version_minor": 0
      },
      "text/plain": [
       "  0%|          | 0.00/83.3M [00:00<?, ?B/s]"
      ]
     },
     "metadata": {},
     "output_type": "display_data"
    },
    {
     "name": "stdout",
     "output_type": "stream",
     "text": [
      "Epochs: 10\n",
      "Batch size: 32\n",
      "train size: 19397 - eval size: 1999\n",
      "error\n",
      "Epoch 1 of 10\n"
     ]
    },
    {
     "name": "stderr",
     "output_type": "stream",
     "text": [
      " 41%|████      | 249/607 [04:01<05:29,  1.09it/s]"
     ]
    },
    {
     "name": "stdout",
     "output_type": "stream",
     "text": [
      "\n",
      "Training Results: Accuracy - 59.375%, Loss - 1.2830849630832672\n",
      "Evaluation Results: Accuracy - 61.17063492063492%, Loss - 1.296040853810689\n"
     ]
    },
    {
     "name": "stderr",
     "output_type": "stream",
     "text": [
      " 82%|████████▏ | 499/607 [08:54<01:45,  1.02it/s]"
     ]
    },
    {
     "name": "stdout",
     "output_type": "stream",
     "text": [
      "\n",
      "Training Results: Accuracy - 75.0%, Loss - 1.2666661330461502\n",
      "Evaluation Results: Accuracy - 59.38492063492063%, Loss - 1.2147048077886067\n"
     ]
    },
    {
     "name": "stderr",
     "output_type": "stream",
     "text": [
      "100%|██████████| 607/607 [11:18<00:00,  1.12s/it]\n"
     ]
    },
    {
     "name": "stdout",
     "output_type": "stream",
     "text": [
      "Epoch 2 of 10\n"
     ]
    },
    {
     "name": "stderr",
     "output_type": "stream",
     "text": [
      " 23%|██▎       | 142/607 [01:45<05:48,  1.33it/s]"
     ]
    },
    {
     "name": "stdout",
     "output_type": "stream",
     "text": [
      "\n",
      "Training Results: Accuracy - 68.75%, Loss - 1.2023109356006543\n",
      "Evaluation Results: Accuracy - 60.773809523809526%, Loss - 1.2437412464429463\n"
     ]
    },
    {
     "name": "stderr",
     "output_type": "stream",
     "text": [
      " 65%|██████▍   | 392/607 [05:33<02:35,  1.38it/s]"
     ]
    },
    {
     "name": "stdout",
     "output_type": "stream",
     "text": [
      "\n",
      "Training Results: Accuracy - 62.5%, Loss - 1.1862766777589424\n",
      "Evaluation Results: Accuracy - 61.31944444444444%, Loss - 1.1373978739693051\n"
     ]
    },
    {
     "name": "stderr",
     "output_type": "stream",
     "text": [
      "100%|██████████| 607/607 [08:54<00:00,  1.14it/s]\n"
     ]
    },
    {
     "name": "stdout",
     "output_type": "stream",
     "text": [
      "Epoch 3 of 10\n"
     ]
    },
    {
     "name": "stderr",
     "output_type": "stream",
     "text": [
      "  6%|▌         | 35/607 [00:25<06:44,  1.41it/s]"
     ]
    },
    {
     "name": "stdout",
     "output_type": "stream",
     "text": [
      "\n",
      "Training Results: Accuracy - 46.875%, Loss - 1.167542192671034\n",
      "Evaluation Results: Accuracy - 60.92261904761905%, Loss - 1.1361114704419697\n"
     ]
    },
    {
     "name": "stderr",
     "output_type": "stream",
     "text": [
      " 47%|████▋     | 285/607 [04:13<03:59,  1.35it/s]"
     ]
    },
    {
     "name": "stdout",
     "output_type": "stream",
     "text": [
      "\n",
      "Training Results: Accuracy - 53.125%, Loss - 1.091222443780699\n",
      "Evaluation Results: Accuracy - 61.673280423280424%, Loss - 1.0609136413014124\n"
     ]
    },
    {
     "name": "stderr",
     "output_type": "stream",
     "text": [
      " 88%|████████▊ | 535/607 [08:01<00:54,  1.33it/s]"
     ]
    },
    {
     "name": "stdout",
     "output_type": "stream",
     "text": [
      "\n",
      "Training Results: Accuracy - 78.125%, Loss - 1.0604952690539076\n",
      "Evaluation Results: Accuracy - 63.50859788359788%, Loss - 0.9919874687043447\n"
     ]
    },
    {
     "name": "stderr",
     "output_type": "stream",
     "text": [
      "100%|██████████| 607/607 [09:34<00:00,  1.06it/s]\n"
     ]
    },
    {
     "name": "stdout",
     "output_type": "stream",
     "text": [
      "Epoch 4 of 10\n"
     ]
    },
    {
     "name": "stderr",
     "output_type": "stream",
     "text": [
      " 29%|██▉       | 178/607 [02:11<05:06,  1.40it/s]"
     ]
    },
    {
     "name": "stdout",
     "output_type": "stream",
     "text": [
      "\n",
      "Training Results: Accuracy - 40.625%, Loss - 0.9792992446009673\n",
      "Evaluation Results: Accuracy - 64.50066137566138%, Loss - 0.9612988176799956\n"
     ]
    },
    {
     "name": "stderr",
     "output_type": "stream",
     "text": [
      " 71%|███████   | 428/607 [05:57<02:06,  1.42it/s]"
     ]
    },
    {
     "name": "stdout",
     "output_type": "stream",
     "text": [
      "\n",
      "Training Results: Accuracy - 65.625%, Loss - 0.9527438952650501\n",
      "Evaluation Results: Accuracy - 66.24338624338624%, Loss - 0.906030987936353\n"
     ]
    },
    {
     "name": "stderr",
     "output_type": "stream",
     "text": [
      "100%|██████████| 607/607 [08:55<00:00,  1.13it/s]\n"
     ]
    },
    {
     "name": "stdout",
     "output_type": "stream",
     "text": [
      "Epoch 5 of 10\n"
     ]
    },
    {
     "name": "stderr",
     "output_type": "stream",
     "text": [
      " 12%|█▏        | 71/607 [00:51<06:24,  1.39it/s]"
     ]
    },
    {
     "name": "stdout",
     "output_type": "stream",
     "text": [
      "\n",
      "Training Results: Accuracy - 56.25%, Loss - 0.923544294304318\n",
      "Evaluation Results: Accuracy - 64.65608465608466%, Loss - 0.9354622751947433\n"
     ]
    },
    {
     "name": "stderr",
     "output_type": "stream",
     "text": [
      " 53%|█████▎    | 321/607 [04:40<03:23,  1.41it/s]"
     ]
    },
    {
     "name": "stdout",
     "output_type": "stream",
     "text": [
      "\n",
      "Training Results: Accuracy - 65.625%, Loss - 0.8942022691972508\n",
      "Evaluation Results: Accuracy - 66.14417989417989%, Loss - 0.9037213155201503\n"
     ]
    },
    {
     "name": "stderr",
     "output_type": "stream",
     "text": [
      " 94%|█████████▍| 571/607 [08:31<00:26,  1.38it/s]"
     ]
    },
    {
     "name": "stdout",
     "output_type": "stream",
     "text": [
      "\n",
      "Training Results: Accuracy - 71.875%, Loss - 0.8924660925473367\n",
      "Evaluation Results: Accuracy - 67.49007936507937%, Loss - 0.8719296975741311\n"
     ]
    },
    {
     "name": "stderr",
     "output_type": "stream",
     "text": [
      "100%|██████████| 607/607 [09:39<00:00,  1.05it/s]\n"
     ]
    },
    {
     "name": "stdout",
     "output_type": "stream",
     "text": [
      "Epoch 6 of 10\n"
     ]
    },
    {
     "name": "stderr",
     "output_type": "stream",
     "text": [
      " 35%|███▌      | 214/607 [02:40<04:41,  1.40it/s]"
     ]
    },
    {
     "name": "stdout",
     "output_type": "stream",
     "text": [
      "\n",
      "Training Results: Accuracy - 68.75%, Loss - 0.8654609469480292\n",
      "Evaluation Results: Accuracy - 66.19378306878306%, Loss - 0.8836816331696888\n"
     ]
    },
    {
     "name": "stderr",
     "output_type": "stream",
     "text": [
      " 76%|███████▋  | 464/607 [06:30<01:45,  1.36it/s]"
     ]
    },
    {
     "name": "stdout",
     "output_type": "stream",
     "text": [
      "\n",
      "Training Results: Accuracy - 65.625%, Loss - 0.8584072785992776\n",
      "Evaluation Results: Accuracy - 67.29166666666667%, Loss - 0.8434210419654846\n"
     ]
    },
    {
     "name": "stderr",
     "output_type": "stream",
     "text": [
      "100%|██████████| 607/607 [08:59<00:00,  1.13it/s]\n"
     ]
    },
    {
     "name": "stdout",
     "output_type": "stream",
     "text": [
      "Epoch 7 of 10\n"
     ]
    },
    {
     "name": "stderr",
     "output_type": "stream",
     "text": [
      " 18%|█▊        | 107/607 [01:20<06:24,  1.30it/s]"
     ]
    },
    {
     "name": "stdout",
     "output_type": "stream",
     "text": [
      "\n",
      "Training Results: Accuracy - 68.75%, Loss - 0.8415705473334701\n",
      "Evaluation Results: Accuracy - 69.47420634920636%, Loss - 0.8224142080261594\n"
     ]
    },
    {
     "name": "stderr",
     "output_type": "stream",
     "text": [
      " 59%|█████▉    | 357/607 [05:11<03:06,  1.34it/s]"
     ]
    },
    {
     "name": "stdout",
     "output_type": "stream",
     "text": [
      "\n",
      "Training Results: Accuracy - 71.875%, Loss - 0.8180457706557972\n",
      "Evaluation Results: Accuracy - 69.51058201058201%, Loss - 0.7939148204667228\n"
     ]
    },
    {
     "name": "stderr",
     "output_type": "stream",
     "text": [
      "100%|██████████| 607/607 [09:02<00:00,  1.12it/s]\n"
     ]
    },
    {
     "name": "stdout",
     "output_type": "stream",
     "text": [
      "Epoch 8 of 10\n"
     ]
    },
    {
     "name": "stderr",
     "output_type": "stream",
     "text": [
      "  0%|          | 0/607 [00:00<?, ?it/s]"
     ]
    },
    {
     "name": "stdout",
     "output_type": "stream",
     "text": [
      "\n",
      "Training Results: Accuracy - 65.625%, Loss - 0.9135248064994812\n",
      "Evaluation Results: Accuracy - 67.72486772486774%, Loss - 0.8172532698464772\n"
     ]
    },
    {
     "name": "stderr",
     "output_type": "stream",
     "text": [
      " 41%|████      | 250/607 [03:51<05:07,  1.16it/s]"
     ]
    },
    {
     "name": "stdout",
     "output_type": "stream",
     "text": [
      "\n",
      "Training Results: Accuracy - 59.375%, Loss - 0.787162979760493\n",
      "Evaluation Results: Accuracy - 71.7989417989418%, Loss - 0.7516912661847615\n"
     ]
    },
    {
     "name": "stderr",
     "output_type": "stream",
     "text": [
      " 82%|████████▏ | 500/607 [07:42<01:19,  1.34it/s]"
     ]
    },
    {
     "name": "stdout",
     "output_type": "stream",
     "text": [
      "\n",
      "Training Results: Accuracy - 75.0%, Loss - 0.7663745091346923\n",
      "Evaluation Results: Accuracy - 72.48015873015873%, Loss - 0.7293243720417931\n"
     ]
    },
    {
     "name": "stderr",
     "output_type": "stream",
     "text": [
      "100%|██████████| 607/607 [09:44<00:00,  1.04it/s]\n"
     ]
    },
    {
     "name": "stdout",
     "output_type": "stream",
     "text": [
      "Epoch 9 of 10\n"
     ]
    },
    {
     "name": "stderr",
     "output_type": "stream",
     "text": [
      " 24%|██▎       | 143/607 [01:48<05:56,  1.30it/s]"
     ]
    },
    {
     "name": "stdout",
     "output_type": "stream",
     "text": [
      "\n",
      "Training Results: Accuracy - 71.875%, Loss - 0.7418262012716796\n",
      "Evaluation Results: Accuracy - 73.7962962962963%, Loss - 0.7128438642100682\n"
     ]
    },
    {
     "name": "stderr",
     "output_type": "stream",
     "text": [
      " 65%|██████▍   | 393/607 [05:40<02:40,  1.34it/s]"
     ]
    },
    {
     "name": "stdout",
     "output_type": "stream",
     "text": [
      "\n",
      "Training Results: Accuracy - 81.25%, Loss - 0.7256352983150386\n",
      "Evaluation Results: Accuracy - 72.19576719576719%, Loss - 0.7080383802217151\n"
     ]
    },
    {
     "name": "stderr",
     "output_type": "stream",
     "text": [
      "100%|██████████| 607/607 [09:04<00:00,  1.12it/s]\n"
     ]
    },
    {
     "name": "stdout",
     "output_type": "stream",
     "text": [
      "Epoch 10 of 10\n"
     ]
    },
    {
     "name": "stderr",
     "output_type": "stream",
     "text": [
      "  6%|▌         | 36/607 [00:27<07:22,  1.29it/s]"
     ]
    },
    {
     "name": "stdout",
     "output_type": "stream",
     "text": [
      "\n",
      "Training Results: Accuracy - 68.75%, Loss - 0.6667835454683047\n",
      "Evaluation Results: Accuracy - 74.71891534391536%, Loss - 0.6915926753528534\n"
     ]
    },
    {
     "name": "stderr",
     "output_type": "stream",
     "text": [
      " 47%|████▋     | 286/607 [04:20<03:52,  1.38it/s]"
     ]
    },
    {
     "name": "stdout",
     "output_type": "stream",
     "text": [
      "\n",
      "Training Results: Accuracy - 75.0%, Loss - 0.6611434965806555\n",
      "Evaluation Results: Accuracy - 73.3366402116402%, Loss - 0.6874969152231065\n"
     ]
    },
    {
     "name": "stderr",
     "output_type": "stream",
     "text": [
      " 88%|████████▊ | 536/607 [08:11<00:51,  1.39it/s]"
     ]
    },
    {
     "name": "stdout",
     "output_type": "stream",
     "text": [
      "\n",
      "Training Results: Accuracy - 71.875%, Loss - 0.6647135105323969\n",
      "Evaluation Results: Accuracy - 76.81547619047619%, Loss - 0.6566335057455396\n"
     ]
    },
    {
     "name": "stderr",
     "output_type": "stream",
     "text": [
      "100%|██████████| 607/607 [09:47<00:00,  1.03it/s]\n"
     ]
    }
   ],
   "source": [
    "%cd \"/kaggle/working/touch-leaves\"\n",
    "\n",
    "import os\n",
    "\n",
    "import constants\n",
    "from data.StartingDataset import StartingDataset\n",
    "# from networks.StartingNetwork import StartingNetwork\n",
    "from train_functions.starting_train import starting_train\n",
    "from networks.LessDumbNetwork import AliceWithAGun\n",
    "from networks.TotallyMyNetwork import TotallyMyNetwork\n",
    "\n",
    "import torch\n",
    "\n",
    "#TODO:\n",
    "#dropout regularization\n",
    "#unfreezing resnet\n",
    "\n",
    "def main():\n",
    "\n",
    "    model = TotallyMyNetwork()\n",
    "    # model = StartingNetwork()\n",
    "\n",
    "    # Get command line arguments\n",
    "    hyperparameters = {\"epochs\": constants.EPOCHS, \"batch_size\": constants.BATCH_SIZE}\n",
    "\n",
    "    # TODO: Add GPU support. This line of code might be helpful.\n",
    "    device = torch.device(\"cuda\" if torch.cuda.is_available() else \"cpu\")\n",
    "\n",
    "    print(\"Epochs:\", constants.EPOCHS)\n",
    "    print(\"Batch size:\", constants.BATCH_SIZE)\n",
    "\n",
    "    # Initalize dataset and model. Then train the model!\n",
    "    train_dataset = StartingDataset()\n",
    "    val_dataset = StartingDataset(eval=True)\n",
    "    print(f\"train size: {len(train_dataset)} - eval size: {len(val_dataset)}\")\n",
    "\n",
    "    starting_train(\n",
    "        train_dataset=train_dataset,\n",
    "        val_dataset=val_dataset,\n",
    "        model=model,\n",
    "        hyperparameters=hyperparameters,\n",
    "        n_eval=constants.N_EVAL,\n",
    "    )\n",
    "\n",
    "\n",
    "if __name__ == \"__main__\":\n",
    "    main()\n"
   ]
  },
  {
   "cell_type": "code",
   "execution_count": 5,
   "id": "4cbede3f",
   "metadata": {
    "execution": {
     "iopub.execute_input": "2022-05-26T19:17:31.703157Z",
     "iopub.status.busy": "2022-05-26T19:17:31.702899Z",
     "iopub.status.idle": "2022-05-26T19:17:32.388454Z",
     "shell.execute_reply": "2022-05-26T19:17:32.387651Z"
    },
    "papermill": {
     "duration": 2.560906,
     "end_time": "2022-05-26T19:17:32.390393",
     "exception": false,
     "start_time": "2022-05-26T19:17:29.829487",
     "status": "completed"
    },
    "tags": []
   },
   "outputs": [
    {
     "name": "stdout",
     "output_type": "stream",
     "text": [
      "/kaggle/working/touch-leaves\r\n"
     ]
    }
   ],
   "source": [
    "!pwd"
   ]
  },
  {
   "cell_type": "code",
   "execution_count": null,
   "id": "ebaf8ac0",
   "metadata": {
    "papermill": {
     "duration": 1.880423,
     "end_time": "2022-05-26T19:17:36.143523",
     "exception": false,
     "start_time": "2022-05-26T19:17:34.263100",
     "status": "completed"
    },
    "tags": []
   },
   "outputs": [],
   "source": []
  },
  {
   "cell_type": "markdown",
   "id": "74a6b51c",
   "metadata": {
    "papermill": {
     "duration": 1.942976,
     "end_time": "2022-05-26T19:17:40.231337",
     "exception": false,
     "start_time": "2022-05-26T19:17:38.288361",
     "status": "completed"
    },
    "tags": []
   },
   "source": [
    "<a href=\"touch-leaves/models/modelFinalHopefully.pt\"> Download model </a>"
   ]
  },
  {
   "cell_type": "code",
   "execution_count": 6,
   "id": "ed437a2b",
   "metadata": {
    "execution": {
     "iopub.execute_input": "2022-05-26T19:17:43.984809Z",
     "iopub.status.busy": "2022-05-26T19:17:43.984545Z",
     "iopub.status.idle": "2022-05-26T19:17:44.711510Z",
     "shell.execute_reply": "2022-05-26T19:17:44.710679Z"
    },
    "papermill": {
     "duration": 2.611158,
     "end_time": "2022-05-26T19:17:44.713746",
     "exception": false,
     "start_time": "2022-05-26T19:17:42.102588",
     "status": "completed"
    },
    "tags": []
   },
   "outputs": [
    {
     "name": "stdout",
     "output_type": "stream",
     "text": [
      "ls: cannot access 'touch-leaves/models/modelFinalHopefully.pt': No such file or directory\r\n"
     ]
    }
   ],
   "source": [
    "!ls -l touch-leaves/models/modelFinalHopefully.pt"
   ]
  },
  {
   "cell_type": "code",
   "execution_count": 7,
   "id": "0851766e",
   "metadata": {
    "execution": {
     "iopub.execute_input": "2022-05-26T19:17:48.484384Z",
     "iopub.status.busy": "2022-05-26T19:17:48.483841Z",
     "iopub.status.idle": "2022-05-26T19:17:48.490909Z",
     "shell.execute_reply": "2022-05-26T19:17:48.489857Z"
    },
    "papermill": {
     "duration": 1.898597,
     "end_time": "2022-05-26T19:17:48.493117",
     "exception": false,
     "start_time": "2022-05-26T19:17:46.594520",
     "status": "completed"
    },
    "tags": []
   },
   "outputs": [
    {
     "name": "stdout",
     "output_type": "stream",
     "text": [
      "/kaggle/working\n"
     ]
    }
   ],
   "source": [
    "%cd /kaggle/working"
   ]
  },
  {
   "cell_type": "code",
   "execution_count": 8,
   "id": "3ef334ab",
   "metadata": {
    "execution": {
     "iopub.execute_input": "2022-05-26T19:17:52.637830Z",
     "iopub.status.busy": "2022-05-26T19:17:52.637560Z",
     "iopub.status.idle": "2022-05-26T19:17:52.642828Z",
     "shell.execute_reply": "2022-05-26T19:17:52.642108Z"
    },
    "papermill": {
     "duration": 1.967674,
     "end_time": "2022-05-26T19:17:52.645338",
     "exception": false,
     "start_time": "2022-05-26T19:17:50.677664",
     "status": "completed"
    },
    "tags": []
   },
   "outputs": [
    {
     "name": "stdout",
     "output_type": "stream",
     "text": [
      "/kaggle/working/touch-leaves\n"
     ]
    }
   ],
   "source": [
    "%cd touch-leaves"
   ]
  },
  {
   "cell_type": "code",
   "execution_count": 9,
   "id": "9f4ccf97",
   "metadata": {
    "execution": {
     "iopub.execute_input": "2022-05-26T19:17:56.952942Z",
     "iopub.status.busy": "2022-05-26T19:17:56.952678Z",
     "iopub.status.idle": "2022-05-26T19:17:58.792298Z",
     "shell.execute_reply": "2022-05-26T19:17:58.791369Z"
    },
    "papermill": {
     "duration": 4.276202,
     "end_time": "2022-05-26T19:17:58.794643",
     "exception": false,
     "start_time": "2022-05-26T19:17:54.518441",
     "status": "completed"
    },
    "tags": []
   },
   "outputs": [
    {
     "name": "stdout",
     "output_type": "stream",
     "text": [
      "Refresh index: 100% (20/20), done.\r\n",
      "On branch lr-0.005\r\n",
      "Your branch is up to date with 'origin/lr-0.005'.\r\n",
      "\r\n",
      "Changes not staged for commit:\r\n",
      "  (use \"git add <file>...\" to update what will be committed)\r\n",
      "  (use \"git restore <file>...\" to discard changes in working directory)\r\n",
      "\t\u001b[31mmodified:   models/modelFinalHopefully.pt\u001b[m\r\n",
      "\r\n",
      "no changes added to commit (use \"git add\" and/or \"git commit -a\")\r\n"
     ]
    }
   ],
   "source": [
    "!git status"
   ]
  },
  {
   "cell_type": "code",
   "execution_count": null,
   "id": "bbd00747",
   "metadata": {
    "papermill": {
     "duration": 1.87153,
     "end_time": "2022-05-26T19:18:02.790683",
     "exception": false,
     "start_time": "2022-05-26T19:18:00.919153",
     "status": "completed"
    },
    "tags": []
   },
   "outputs": [],
   "source": []
  }
 ],
 "metadata": {
  "kernelspec": {
   "display_name": "Python 3",
   "language": "python",
   "name": "python3"
  },
  "language_info": {
   "codemirror_mode": {
    "name": "ipython",
    "version": 3
   },
   "file_extension": ".py",
   "mimetype": "text/x-python",
   "name": "python",
   "nbconvert_exporter": "python",
   "pygments_lexer": "ipython3",
   "version": "3.7.12"
  },
  "papermill": {
   "default_parameters": {},
   "duration": 5769.151244,
   "end_time": "2022-05-26T19:18:06.094246",
   "environment_variables": {},
   "exception": null,
   "input_path": "__notebook__.ipynb",
   "output_path": "__notebook__.ipynb",
   "parameters": {},
   "start_time": "2022-05-26T17:41:56.943002",
   "version": "2.3.4"
  },
  "widgets": {
   "application/vnd.jupyter.widget-state+json": {
    "state": {
     "1aa166099e214ca3b56356698d1823c8": {
      "model_module": "@jupyter-widgets/base",
      "model_module_version": "1.2.0",
      "model_name": "LayoutModel",
      "state": {
       "_model_module": "@jupyter-widgets/base",
       "_model_module_version": "1.2.0",
       "_model_name": "LayoutModel",
       "_view_count": null,
       "_view_module": "@jupyter-widgets/base",
       "_view_module_version": "1.2.0",
       "_view_name": "LayoutView",
       "align_content": null,
       "align_items": null,
       "align_self": null,
       "border": null,
       "bottom": null,
       "display": null,
       "flex": null,
       "flex_flow": null,
       "grid_area": null,
       "grid_auto_columns": null,
       "grid_auto_flow": null,
       "grid_auto_rows": null,
       "grid_column": null,
       "grid_gap": null,
       "grid_row": null,
       "grid_template_areas": null,
       "grid_template_columns": null,
       "grid_template_rows": null,
       "height": null,
       "justify_content": null,
       "justify_items": null,
       "left": null,
       "margin": null,
       "max_height": null,
       "max_width": null,
       "min_height": null,
       "min_width": null,
       "object_fit": null,
       "object_position": null,
       "order": null,
       "overflow": null,
       "overflow_x": null,
       "overflow_y": null,
       "padding": null,
       "right": null,
       "top": null,
       "visibility": null,
       "width": null
      }
     },
     "27f674a61254492e9be8c4ca2e0ad557": {
      "model_module": "@jupyter-widgets/controls",
      "model_module_version": "1.5.0",
      "model_name": "HTMLModel",
      "state": {
       "_dom_classes": [],
       "_model_module": "@jupyter-widgets/controls",
       "_model_module_version": "1.5.0",
       "_model_name": "HTMLModel",
       "_view_count": null,
       "_view_module": "@jupyter-widgets/controls",
       "_view_module_version": "1.5.0",
       "_view_name": "HTMLView",
       "description": "",
       "description_tooltip": null,
       "layout": "IPY_MODEL_a09a521b8dd7494cb98dcbcbc54a9008",
       "placeholder": "​",
       "style": "IPY_MODEL_eabe60d11ebc4712bd33ab10a840059d",
       "value": " 83.3M/83.3M [00:07&lt;00:00, 23.9MB/s]"
      }
     },
     "32a49130a21849308aa028eba3f0f0bc": {
      "model_module": "@jupyter-widgets/controls",
      "model_module_version": "1.5.0",
      "model_name": "FloatProgressModel",
      "state": {
       "_dom_classes": [],
       "_model_module": "@jupyter-widgets/controls",
       "_model_module_version": "1.5.0",
       "_model_name": "FloatProgressModel",
       "_view_count": null,
       "_view_module": "@jupyter-widgets/controls",
       "_view_module_version": "1.5.0",
       "_view_name": "ProgressView",
       "bar_style": "success",
       "description": "",
       "description_tooltip": null,
       "layout": "IPY_MODEL_85574bec26544b488e2b209b9b1446ae",
       "max": 87319819.0,
       "min": 0.0,
       "orientation": "horizontal",
       "style": "IPY_MODEL_525724a88f294fc08ec080ada00bc0f0",
       "value": 87319819.0
      }
     },
     "3fc0828adf754dd6951c6bfb06a430af": {
      "model_module": "@jupyter-widgets/controls",
      "model_module_version": "1.5.0",
      "model_name": "DescriptionStyleModel",
      "state": {
       "_model_module": "@jupyter-widgets/controls",
       "_model_module_version": "1.5.0",
       "_model_name": "DescriptionStyleModel",
       "_view_count": null,
       "_view_module": "@jupyter-widgets/base",
       "_view_module_version": "1.2.0",
       "_view_name": "StyleView",
       "description_width": ""
      }
     },
     "525724a88f294fc08ec080ada00bc0f0": {
      "model_module": "@jupyter-widgets/controls",
      "model_module_version": "1.5.0",
      "model_name": "ProgressStyleModel",
      "state": {
       "_model_module": "@jupyter-widgets/controls",
       "_model_module_version": "1.5.0",
       "_model_name": "ProgressStyleModel",
       "_view_count": null,
       "_view_module": "@jupyter-widgets/base",
       "_view_module_version": "1.2.0",
       "_view_name": "StyleView",
       "bar_color": null,
       "description_width": ""
      }
     },
     "85574bec26544b488e2b209b9b1446ae": {
      "model_module": "@jupyter-widgets/base",
      "model_module_version": "1.2.0",
      "model_name": "LayoutModel",
      "state": {
       "_model_module": "@jupyter-widgets/base",
       "_model_module_version": "1.2.0",
       "_model_name": "LayoutModel",
       "_view_count": null,
       "_view_module": "@jupyter-widgets/base",
       "_view_module_version": "1.2.0",
       "_view_name": "LayoutView",
       "align_content": null,
       "align_items": null,
       "align_self": null,
       "border": null,
       "bottom": null,
       "display": null,
       "flex": null,
       "flex_flow": null,
       "grid_area": null,
       "grid_auto_columns": null,
       "grid_auto_flow": null,
       "grid_auto_rows": null,
       "grid_column": null,
       "grid_gap": null,
       "grid_row": null,
       "grid_template_areas": null,
       "grid_template_columns": null,
       "grid_template_rows": null,
       "height": null,
       "justify_content": null,
       "justify_items": null,
       "left": null,
       "margin": null,
       "max_height": null,
       "max_width": null,
       "min_height": null,
       "min_width": null,
       "object_fit": null,
       "object_position": null,
       "order": null,
       "overflow": null,
       "overflow_x": null,
       "overflow_y": null,
       "padding": null,
       "right": null,
       "top": null,
       "visibility": null,
       "width": null
      }
     },
     "9336e42de3b84aa9b37643ab611b2419": {
      "model_module": "@jupyter-widgets/controls",
      "model_module_version": "1.5.0",
      "model_name": "HTMLModel",
      "state": {
       "_dom_classes": [],
       "_model_module": "@jupyter-widgets/controls",
       "_model_module_version": "1.5.0",
       "_model_name": "HTMLModel",
       "_view_count": null,
       "_view_module": "@jupyter-widgets/controls",
       "_view_module_version": "1.5.0",
       "_view_name": "HTMLView",
       "description": "",
       "description_tooltip": null,
       "layout": "IPY_MODEL_aa1c83c8e36b413c94f26490440edb55",
       "placeholder": "​",
       "style": "IPY_MODEL_3fc0828adf754dd6951c6bfb06a430af",
       "value": "100%"
      }
     },
     "a09a521b8dd7494cb98dcbcbc54a9008": {
      "model_module": "@jupyter-widgets/base",
      "model_module_version": "1.2.0",
      "model_name": "LayoutModel",
      "state": {
       "_model_module": "@jupyter-widgets/base",
       "_model_module_version": "1.2.0",
       "_model_name": "LayoutModel",
       "_view_count": null,
       "_view_module": "@jupyter-widgets/base",
       "_view_module_version": "1.2.0",
       "_view_name": "LayoutView",
       "align_content": null,
       "align_items": null,
       "align_self": null,
       "border": null,
       "bottom": null,
       "display": null,
       "flex": null,
       "flex_flow": null,
       "grid_area": null,
       "grid_auto_columns": null,
       "grid_auto_flow": null,
       "grid_auto_rows": null,
       "grid_column": null,
       "grid_gap": null,
       "grid_row": null,
       "grid_template_areas": null,
       "grid_template_columns": null,
       "grid_template_rows": null,
       "height": null,
       "justify_content": null,
       "justify_items": null,
       "left": null,
       "margin": null,
       "max_height": null,
       "max_width": null,
       "min_height": null,
       "min_width": null,
       "object_fit": null,
       "object_position": null,
       "order": null,
       "overflow": null,
       "overflow_x": null,
       "overflow_y": null,
       "padding": null,
       "right": null,
       "top": null,
       "visibility": null,
       "width": null
      }
     },
     "aa1c83c8e36b413c94f26490440edb55": {
      "model_module": "@jupyter-widgets/base",
      "model_module_version": "1.2.0",
      "model_name": "LayoutModel",
      "state": {
       "_model_module": "@jupyter-widgets/base",
       "_model_module_version": "1.2.0",
       "_model_name": "LayoutModel",
       "_view_count": null,
       "_view_module": "@jupyter-widgets/base",
       "_view_module_version": "1.2.0",
       "_view_name": "LayoutView",
       "align_content": null,
       "align_items": null,
       "align_self": null,
       "border": null,
       "bottom": null,
       "display": null,
       "flex": null,
       "flex_flow": null,
       "grid_area": null,
       "grid_auto_columns": null,
       "grid_auto_flow": null,
       "grid_auto_rows": null,
       "grid_column": null,
       "grid_gap": null,
       "grid_row": null,
       "grid_template_areas": null,
       "grid_template_columns": null,
       "grid_template_rows": null,
       "height": null,
       "justify_content": null,
       "justify_items": null,
       "left": null,
       "margin": null,
       "max_height": null,
       "max_width": null,
       "min_height": null,
       "min_width": null,
       "object_fit": null,
       "object_position": null,
       "order": null,
       "overflow": null,
       "overflow_x": null,
       "overflow_y": null,
       "padding": null,
       "right": null,
       "top": null,
       "visibility": null,
       "width": null
      }
     },
     "eabe60d11ebc4712bd33ab10a840059d": {
      "model_module": "@jupyter-widgets/controls",
      "model_module_version": "1.5.0",
      "model_name": "DescriptionStyleModel",
      "state": {
       "_model_module": "@jupyter-widgets/controls",
       "_model_module_version": "1.5.0",
       "_model_name": "DescriptionStyleModel",
       "_view_count": null,
       "_view_module": "@jupyter-widgets/base",
       "_view_module_version": "1.2.0",
       "_view_name": "StyleView",
       "description_width": ""
      }
     },
     "f75e92a9673e4928bbbe7ec2e0a973f9": {
      "model_module": "@jupyter-widgets/controls",
      "model_module_version": "1.5.0",
      "model_name": "HBoxModel",
      "state": {
       "_dom_classes": [],
       "_model_module": "@jupyter-widgets/controls",
       "_model_module_version": "1.5.0",
       "_model_name": "HBoxModel",
       "_view_count": null,
       "_view_module": "@jupyter-widgets/controls",
       "_view_module_version": "1.5.0",
       "_view_name": "HBoxView",
       "box_style": "",
       "children": [
        "IPY_MODEL_9336e42de3b84aa9b37643ab611b2419",
        "IPY_MODEL_32a49130a21849308aa028eba3f0f0bc",
        "IPY_MODEL_27f674a61254492e9be8c4ca2e0ad557"
       ],
       "layout": "IPY_MODEL_1aa166099e214ca3b56356698d1823c8"
      }
     }
    },
    "version_major": 2,
    "version_minor": 0
   }
  }
 },
 "nbformat": 4,
 "nbformat_minor": 5
}
