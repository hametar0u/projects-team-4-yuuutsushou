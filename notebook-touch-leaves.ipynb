{
 "cells": [
  {
   "cell_type": "code",
   "execution_count": 1,
   "id": "892af2ef",
   "metadata": {
    "execution": {
     "iopub.execute_input": "2022-05-26T14:15:31.323570Z",
     "iopub.status.busy": "2022-05-26T14:15:31.322653Z",
     "iopub.status.idle": "2022-05-26T14:15:36.897066Z",
     "shell.execute_reply": "2022-05-26T14:15:36.896201Z"
    },
    "papermill": {
     "duration": 5.589559,
     "end_time": "2022-05-26T14:15:36.899328",
     "exception": false,
     "start_time": "2022-05-26T14:15:31.309769",
     "status": "completed"
    },
    "tags": []
   },
   "outputs": [
    {
     "name": "stdout",
     "output_type": "stream",
     "text": [
      "Cloning into 'touch-leaves'...\r\n",
      "remote: Enumerating objects: 376, done.\u001b[K\r\n",
      "remote: Counting objects: 100% (108/108), done.\u001b[K\r\n",
      "remote: Compressing objects: 100% (60/60), done.\u001b[K\r\n",
      "remote: Total 376 (delta 51), reused 98 (delta 44), pack-reused 268\u001b[K\r\n",
      "Receiving objects: 100% (376/376), 81.12 MiB | 32.95 MiB/s, done.\r\n",
      "Resolving deltas: 100% (172/172), done.\r\n"
     ]
    }
   ],
   "source": [
    "!git clone https://github.com/hametar0u/touch-leaves.git --branch resnet-34"
   ]
  },
  {
   "cell_type": "code",
   "execution_count": 2,
   "id": "3e85c98d",
   "metadata": {
    "execution": {
     "iopub.execute_input": "2022-05-26T14:15:36.929508Z",
     "iopub.status.busy": "2022-05-26T14:15:36.927996Z",
     "iopub.status.idle": "2022-05-26T14:15:36.934885Z",
     "shell.execute_reply": "2022-05-26T14:15:36.933853Z"
    },
    "papermill": {
     "duration": 0.023712,
     "end_time": "2022-05-26T14:15:36.937175",
     "exception": false,
     "start_time": "2022-05-26T14:15:36.913463",
     "status": "completed"
    },
    "tags": []
   },
   "outputs": [
    {
     "name": "stdout",
     "output_type": "stream",
     "text": [
      "/kaggle/working/touch-leaves\n"
     ]
    }
   ],
   "source": [
    "%cd touch-leaves"
   ]
  },
  {
   "cell_type": "code",
   "execution_count": 3,
   "id": "20431af5",
   "metadata": {
    "execution": {
     "iopub.execute_input": "2022-05-26T14:15:36.966586Z",
     "iopub.status.busy": "2022-05-26T14:15:36.966121Z",
     "iopub.status.idle": "2022-05-26T14:15:38.112356Z",
     "shell.execute_reply": "2022-05-26T14:15:38.111501Z"
    },
    "papermill": {
     "duration": 1.162959,
     "end_time": "2022-05-26T14:15:38.114485",
     "exception": false,
     "start_time": "2022-05-26T14:15:36.951526",
     "status": "completed"
    },
    "tags": []
   },
   "outputs": [
    {
     "name": "stdout",
     "output_type": "stream",
     "text": [
      "From https://github.com/hametar0u/touch-leaves\r\n",
      " * branch            torch-save -> FETCH_HEAD\r\n",
      "\r\n",
      "*** Please tell me who you are.\r\n",
      "\r\n",
      "Run\r\n",
      "\r\n",
      "  git config --global user.email \"you@example.com\"\r\n",
      "  git config --global user.name \"Your Name\"\r\n",
      "\r\n",
      "to set your account's default identity.\r\n",
      "Omit --global to set the identity only in this repository.\r\n",
      "\r\n",
      "fatal: unable to auto-detect email address (got 'root@b9663d90f912.(none)')\r\n"
     ]
    }
   ],
   "source": [
    "# Restart the notebook after pull\n",
    "!git pull origin torch-save"
   ]
  },
  {
   "cell_type": "code",
   "execution_count": 4,
   "id": "ee1baed0",
   "metadata": {
    "execution": {
     "iopub.execute_input": "2022-05-26T14:15:38.144828Z",
     "iopub.status.busy": "2022-05-26T14:15:38.144584Z",
     "iopub.status.idle": "2022-05-26T15:51:05.444377Z",
     "shell.execute_reply": "2022-05-26T15:51:05.443696Z"
    },
    "papermill": {
     "duration": 5727.31756,
     "end_time": "2022-05-26T15:51:05.446724",
     "exception": false,
     "start_time": "2022-05-26T14:15:38.129164",
     "status": "completed"
    },
    "tags": []
   },
   "outputs": [
    {
     "name": "stdout",
     "output_type": "stream",
     "text": [
      "/kaggle/working/touch-leaves\n",
      "Running on GPU\n",
      "Tesla P100-PCIE-16GB\n",
      "Running on GPU\n",
      "Tesla P100-PCIE-16GB\n"
     ]
    },
    {
     "name": "stderr",
     "output_type": "stream",
     "text": [
      "Downloading: \"https://github.com/pytorch/vision/archive/v0.9.0.zip\" to /root/.cache/torch/hub/v0.9.0.zip\n",
      "Downloading: \"https://download.pytorch.org/models/resnet34-b627a593.pth\" to /root/.cache/torch/hub/checkpoints/resnet34-b627a593.pth\n"
     ]
    },
    {
     "data": {
      "application/vnd.jupyter.widget-view+json": {
       "model_id": "a6132e476cb44a6d92359042f9ad8dc8",
       "version_major": 2,
       "version_minor": 0
      },
      "text/plain": [
       "  0%|          | 0.00/83.3M [00:00<?, ?B/s]"
      ]
     },
     "metadata": {},
     "output_type": "display_data"
    },
    {
     "name": "stdout",
     "output_type": "stream",
     "text": [
      "Epochs: 10\n",
      "Batch size: 32\n",
      "train size: 19397 - eval size: 1999\n",
      "error\n",
      "Epoch 1 of 10\n"
     ]
    },
    {
     "name": "stderr",
     "output_type": "stream",
     "text": [
      " 41%|████      | 249/607 [03:59<05:19,  1.12it/s]"
     ]
    },
    {
     "name": "stdout",
     "output_type": "stream",
     "text": [
      "\n",
      "Training Results: Accuracy - 68.75%, Loss - 1.1083646521568298\n",
      "Evaluation Results: Accuracy - 64.79828042328042%, Loss - 0.9317431771565997\n"
     ]
    },
    {
     "name": "stderr",
     "output_type": "stream",
     "text": [
      " 82%|████████▏ | 499/607 [08:43<01:36,  1.12it/s]"
     ]
    },
    {
     "name": "stdout",
     "output_type": "stream",
     "text": [
      "\n",
      "Training Results: Accuracy - 71.875%, Loss - 0.996073248386383\n",
      "Evaluation Results: Accuracy - 67.7116402116402%, Loss - 0.8521669667864603\n"
     ]
    },
    {
     "name": "stderr",
     "output_type": "stream",
     "text": [
      "100%|██████████| 607/607 [11:04<00:00,  1.10s/it]\n"
     ]
    },
    {
     "name": "stdout",
     "output_type": "stream",
     "text": [
      "Epoch 2 of 10\n"
     ]
    },
    {
     "name": "stderr",
     "output_type": "stream",
     "text": [
      " 23%|██▎       | 142/607 [01:46<05:55,  1.31it/s]"
     ]
    },
    {
     "name": "stdout",
     "output_type": "stream",
     "text": [
      "\n",
      "Training Results: Accuracy - 81.25%, Loss - 0.8857258466573862\n",
      "Evaluation Results: Accuracy - 71.44510582010582%, Loss - 0.7870633611603389\n"
     ]
    },
    {
     "name": "stderr",
     "output_type": "stream",
     "text": [
      " 65%|██████▍   | 392/607 [05:34<02:42,  1.32it/s]"
     ]
    },
    {
     "name": "stdout",
     "output_type": "stream",
     "text": [
      "\n",
      "Training Results: Accuracy - 75.0%, Loss - 0.8299665347158757\n",
      "Evaluation Results: Accuracy - 72.15277777777777%, Loss - 0.7363112124185713\n"
     ]
    },
    {
     "name": "stderr",
     "output_type": "stream",
     "text": [
      "100%|██████████| 607/607 [08:56<00:00,  1.13it/s]\n"
     ]
    },
    {
     "name": "stdout",
     "output_type": "stream",
     "text": [
      "Epoch 3 of 10\n"
     ]
    },
    {
     "name": "stderr",
     "output_type": "stream",
     "text": [
      "  6%|▌         | 35/607 [00:25<06:55,  1.38it/s]"
     ]
    },
    {
     "name": "stdout",
     "output_type": "stream",
     "text": [
      "\n",
      "Training Results: Accuracy - 68.75%, Loss - 0.6855113837454054\n",
      "Evaluation Results: Accuracy - 74.17989417989418%, Loss - 0.7024849161269173\n"
     ]
    },
    {
     "name": "stderr",
     "output_type": "stream",
     "text": [
      " 47%|████▋     | 285/607 [04:14<04:11,  1.28it/s]"
     ]
    },
    {
     "name": "stdout",
     "output_type": "stream",
     "text": [
      "\n",
      "Training Results: Accuracy - 75.0%, Loss - 0.6820067235014655\n",
      "Evaluation Results: Accuracy - 77.60912698412699%, Loss - 0.6384067587436192\n"
     ]
    },
    {
     "name": "stderr",
     "output_type": "stream",
     "text": [
      " 88%|████████▊ | 535/607 [08:01<00:53,  1.35it/s]"
     ]
    },
    {
     "name": "stdout",
     "output_type": "stream",
     "text": [
      "\n",
      "Training Results: Accuracy - 84.375%, Loss - 0.6748009028830635\n",
      "Evaluation Results: Accuracy - 75.07936507936508%, Loss - 0.6773738690785\n"
     ]
    },
    {
     "name": "stderr",
     "output_type": "stream",
     "text": [
      "100%|██████████| 607/607 [09:36<00:00,  1.05it/s]\n"
     ]
    },
    {
     "name": "stdout",
     "output_type": "stream",
     "text": [
      "Epoch 4 of 10\n"
     ]
    },
    {
     "name": "stderr",
     "output_type": "stream",
     "text": [
      " 29%|██▉       | 178/607 [02:11<05:03,  1.41it/s]"
     ]
    },
    {
     "name": "stdout",
     "output_type": "stream",
     "text": [
      "\n",
      "Training Results: Accuracy - 65.625%, Loss - 0.649835746048549\n",
      "Evaluation Results: Accuracy - 73.0952380952381%, Loss - 0.7212802190629263\n"
     ]
    },
    {
     "name": "stderr",
     "output_type": "stream",
     "text": [
      " 71%|███████   | 428/607 [05:59<02:18,  1.30it/s]"
     ]
    },
    {
     "name": "stdout",
     "output_type": "stream",
     "text": [
      "\n",
      "Training Results: Accuracy - 75.0%, Loss - 0.6345164013075661\n",
      "Evaluation Results: Accuracy - 76.60383597883599%, Loss - 0.6147848329846821\n"
     ]
    },
    {
     "name": "stderr",
     "output_type": "stream",
     "text": [
      "100%|██████████| 607/607 [08:56<00:00,  1.13it/s]\n"
     ]
    },
    {
     "name": "stdout",
     "output_type": "stream",
     "text": [
      "Epoch 5 of 10\n"
     ]
    },
    {
     "name": "stderr",
     "output_type": "stream",
     "text": [
      " 12%|█▏        | 71/607 [00:53<06:54,  1.29it/s]"
     ]
    },
    {
     "name": "stdout",
     "output_type": "stream",
     "text": [
      "\n",
      "Training Results: Accuracy - 87.5%, Loss - 0.5266507452146875\n",
      "Evaluation Results: Accuracy - 78.70039682539682%, Loss - 0.6055100460847219\n"
     ]
    },
    {
     "name": "stderr",
     "output_type": "stream",
     "text": [
      " 53%|█████▎    | 321/607 [04:45<03:25,  1.39it/s]"
     ]
    },
    {
     "name": "stdout",
     "output_type": "stream",
     "text": [
      "\n",
      "Training Results: Accuracy - 78.125%, Loss - 0.56255095604784\n",
      "Evaluation Results: Accuracy - 77.16269841269842%, Loss - 0.6376122657268767\n"
     ]
    },
    {
     "name": "stderr",
     "output_type": "stream",
     "text": [
      " 94%|█████████▍| 571/607 [08:34<00:27,  1.32it/s]"
     ]
    },
    {
     "name": "stdout",
     "output_type": "stream",
     "text": [
      "\n",
      "Training Results: Accuracy - 87.5%, Loss - 0.5624895978953455\n",
      "Evaluation Results: Accuracy - 77.8505291005291%, Loss - 0.5948579070113954\n"
     ]
    },
    {
     "name": "stderr",
     "output_type": "stream",
     "text": [
      "100%|██████████| 607/607 [09:44<00:00,  1.04it/s]\n"
     ]
    },
    {
     "name": "stdout",
     "output_type": "stream",
     "text": [
      "Epoch 6 of 10\n"
     ]
    },
    {
     "name": "stderr",
     "output_type": "stream",
     "text": [
      " 35%|███▌      | 214/607 [02:43<04:47,  1.37it/s]"
     ]
    },
    {
     "name": "stdout",
     "output_type": "stream",
     "text": [
      "\n",
      "Training Results: Accuracy - 75.0%, Loss - 0.5715281302152678\n",
      "Evaluation Results: Accuracy - 73.83267195767195%, Loss - 0.7189457014439598\n"
     ]
    },
    {
     "name": "stderr",
     "output_type": "stream",
     "text": [
      " 76%|███████▋  | 464/607 [06:33<01:51,  1.29it/s]"
     ]
    },
    {
     "name": "stdout",
     "output_type": "stream",
     "text": [
      "\n",
      "Training Results: Accuracy - 75.0%, Loss - 0.6499667425950368\n",
      "Evaluation Results: Accuracy - 76.45502645502646%, Loss - 0.6664368401444147\n"
     ]
    },
    {
     "name": "stderr",
     "output_type": "stream",
     "text": [
      "100%|██████████| 607/607 [09:05<00:00,  1.11it/s]\n"
     ]
    },
    {
     "name": "stdout",
     "output_type": "stream",
     "text": [
      "Epoch 7 of 10\n"
     ]
    },
    {
     "name": "stderr",
     "output_type": "stream",
     "text": [
      " 18%|█▊        | 107/607 [01:21<06:05,  1.37it/s]"
     ]
    },
    {
     "name": "stdout",
     "output_type": "stream",
     "text": [
      "\n",
      "Training Results: Accuracy - 78.125%, Loss - 0.48029756877157426\n",
      "Evaluation Results: Accuracy - 79.14682539682539%, Loss - 0.602194652197853\n"
     ]
    },
    {
     "name": "stderr",
     "output_type": "stream",
     "text": [
      " 59%|█████▉    | 357/607 [05:11<02:58,  1.40it/s]"
     ]
    },
    {
     "name": "stdout",
     "output_type": "stream",
     "text": [
      "\n",
      "Training Results: Accuracy - 87.5%, Loss - 0.4813668544315759\n",
      "Evaluation Results: Accuracy - 79.65608465608464%, Loss - 0.5975896801267352\n"
     ]
    },
    {
     "name": "stderr",
     "output_type": "stream",
     "text": [
      "100%|██████████| 607/607 [09:01<00:00,  1.12it/s]\n"
     ]
    },
    {
     "name": "stdout",
     "output_type": "stream",
     "text": [
      "Epoch 8 of 10\n"
     ]
    },
    {
     "name": "stderr",
     "output_type": "stream",
     "text": [
      "  0%|          | 0/607 [00:00<?, ?it/s]"
     ]
    },
    {
     "name": "stdout",
     "output_type": "stream",
     "text": [
      "\n",
      "Training Results: Accuracy - 81.25%, Loss - 0.606214702129364\n",
      "Evaluation Results: Accuracy - 78.00595238095238%, Loss - 0.6228704868801056\n"
     ]
    },
    {
     "name": "stderr",
     "output_type": "stream",
     "text": [
      " 41%|████      | 250/607 [03:52<04:13,  1.41it/s]"
     ]
    },
    {
     "name": "stdout",
     "output_type": "stream",
     "text": [
      "\n",
      "Training Results: Accuracy - 93.75%, Loss - 0.4475663219433857\n",
      "Evaluation Results: Accuracy - 79.3452380952381%, Loss - 0.6072427767609793\n"
     ]
    },
    {
     "name": "stderr",
     "output_type": "stream",
     "text": [
      " 82%|████████▏ | 500/607 [07:42<01:16,  1.40it/s]"
     ]
    },
    {
     "name": "stdout",
     "output_type": "stream",
     "text": [
      "\n",
      "Training Results: Accuracy - 87.5%, Loss - 0.44254556104927484\n",
      "Evaluation Results: Accuracy - 79.44444444444444%, Loss - 0.5888926476713211\n"
     ]
    },
    {
     "name": "stderr",
     "output_type": "stream",
     "text": [
      "100%|██████████| 607/607 [09:44<00:00,  1.04it/s]\n"
     ]
    },
    {
     "name": "stdout",
     "output_type": "stream",
     "text": [
      "Epoch 9 of 10\n"
     ]
    },
    {
     "name": "stderr",
     "output_type": "stream",
     "text": [
      " 24%|██▎       | 143/607 [01:47<06:02,  1.28it/s]"
     ]
    },
    {
     "name": "stdout",
     "output_type": "stream",
     "text": [
      "\n",
      "Training Results: Accuracy - 93.75%, Loss - 0.3819446180843645\n",
      "Evaluation Results: Accuracy - 79.84126984126983%, Loss - 0.6041700986642686\n"
     ]
    },
    {
     "name": "stderr",
     "output_type": "stream",
     "text": [
      " 65%|██████▍   | 393/607 [05:41<02:34,  1.39it/s]"
     ]
    },
    {
     "name": "stdout",
     "output_type": "stream",
     "text": [
      "\n",
      "Training Results: Accuracy - 87.5%, Loss - 0.37645404967408497\n",
      "Evaluation Results: Accuracy - 77.90013227513226%, Loss - 0.6320347662955995\n"
     ]
    },
    {
     "name": "stderr",
     "output_type": "stream",
     "text": [
      "100%|██████████| 607/607 [09:04<00:00,  1.11it/s]\n"
     ]
    },
    {
     "name": "stdout",
     "output_type": "stream",
     "text": [
      "Epoch 10 of 10\n"
     ]
    },
    {
     "name": "stderr",
     "output_type": "stream",
     "text": [
      "  6%|▌         | 36/607 [00:27<06:55,  1.37it/s]"
     ]
    },
    {
     "name": "stdout",
     "output_type": "stream",
     "text": [
      "\n",
      "Training Results: Accuracy - 81.25%, Loss - 0.3521057951289254\n",
      "Evaluation Results: Accuracy - 77.94973544973544%, Loss - 0.6544440402871087\n"
     ]
    },
    {
     "name": "stderr",
     "output_type": "stream",
     "text": [
      " 47%|████▋     | 286/607 [04:25<04:08,  1.29it/s]"
     ]
    },
    {
     "name": "stdout",
     "output_type": "stream",
     "text": [
      "\n",
      "Training Results: Accuracy - 93.75%, Loss - 0.3323632385257229\n",
      "Evaluation Results: Accuracy - 78.99140211640211%, Loss - 0.6854104250669479\n"
     ]
    },
    {
     "name": "stderr",
     "output_type": "stream",
     "text": [
      " 88%|████████▊ | 536/607 [08:20<00:54,  1.31it/s]"
     ]
    },
    {
     "name": "stdout",
     "output_type": "stream",
     "text": [
      "\n",
      "Training Results: Accuracy - 84.375%, Loss - 0.32864271874367856\n",
      "Evaluation Results: Accuracy - 79.72883597883599%, Loss - 0.6399426682600899\n"
     ]
    },
    {
     "name": "stderr",
     "output_type": "stream",
     "text": [
      "100%|██████████| 607/607 [09:56<00:00,  1.02it/s]\n"
     ]
    }
   ],
   "source": [
    "%cd \"/kaggle/working/touch-leaves\"\n",
    "\n",
    "import os\n",
    "\n",
    "import constants\n",
    "from data.StartingDataset import StartingDataset\n",
    "# from networks.StartingNetwork import StartingNetwork\n",
    "from train_functions.starting_train import starting_train\n",
    "from networks.LessDumbNetwork import AliceWithAGun\n",
    "from networks.TotallyMyNetwork import TotallyMyNetwork\n",
    "\n",
    "import torch\n",
    "\n",
    "#TODO:\n",
    "#dropout regularization\n",
    "#unfreezing resnet\n",
    "\n",
    "def main():\n",
    "\n",
    "    model = TotallyMyNetwork()\n",
    "    # model = StartingNetwork()\n",
    "\n",
    "    # Get command line arguments\n",
    "    hyperparameters = {\"epochs\": constants.EPOCHS, \"batch_size\": constants.BATCH_SIZE}\n",
    "\n",
    "    # TODO: Add GPU support. This line of code might be helpful.\n",
    "    device = torch.device(\"cuda\" if torch.cuda.is_available() else \"cpu\")\n",
    "\n",
    "    print(\"Epochs:\", constants.EPOCHS)\n",
    "    print(\"Batch size:\", constants.BATCH_SIZE)\n",
    "\n",
    "    # Initalize dataset and model. Then train the model!\n",
    "    train_dataset = StartingDataset()\n",
    "    val_dataset = StartingDataset(eval=True)\n",
    "    print(f\"train size: {len(train_dataset)} - eval size: {len(val_dataset)}\")\n",
    "\n",
    "    starting_train(\n",
    "        train_dataset=train_dataset,\n",
    "        val_dataset=val_dataset,\n",
    "        model=model,\n",
    "        hyperparameters=hyperparameters,\n",
    "        n_eval=constants.N_EVAL,\n",
    "    )\n",
    "\n",
    "\n",
    "if __name__ == \"__main__\":\n",
    "    main()\n"
   ]
  },
  {
   "cell_type": "code",
   "execution_count": 5,
   "id": "f590e4ad",
   "metadata": {
    "execution": {
     "iopub.execute_input": "2022-05-26T15:51:09.457194Z",
     "iopub.status.busy": "2022-05-26T15:51:09.456922Z",
     "iopub.status.idle": "2022-05-26T15:51:10.143554Z",
     "shell.execute_reply": "2022-05-26T15:51:10.142768Z"
    },
    "papermill": {
     "duration": 2.581393,
     "end_time": "2022-05-26T15:51:10.145619",
     "exception": false,
     "start_time": "2022-05-26T15:51:07.564226",
     "status": "completed"
    },
    "tags": []
   },
   "outputs": [
    {
     "name": "stdout",
     "output_type": "stream",
     "text": [
      "/kaggle/working/touch-leaves\r\n"
     ]
    }
   ],
   "source": [
    "!pwd"
   ]
  },
  {
   "cell_type": "code",
   "execution_count": null,
   "id": "62b9f18d",
   "metadata": {
    "papermill": {
     "duration": 1.883083,
     "end_time": "2022-05-26T15:51:13.921998",
     "exception": false,
     "start_time": "2022-05-26T15:51:12.038915",
     "status": "completed"
    },
    "tags": []
   },
   "outputs": [],
   "source": []
  },
  {
   "cell_type": "markdown",
   "id": "f07a770e",
   "metadata": {
    "papermill": {
     "duration": 1.894415,
     "end_time": "2022-05-26T15:51:18.040707",
     "exception": false,
     "start_time": "2022-05-26T15:51:16.146292",
     "status": "completed"
    },
    "tags": []
   },
   "source": [
    "<a href=\"touch-leaves/models/modelFinalHopefully.pt\"> Download model </a>"
   ]
  },
  {
   "cell_type": "code",
   "execution_count": 6,
   "id": "a1220e3e",
   "metadata": {
    "execution": {
     "iopub.execute_input": "2022-05-26T15:51:21.887082Z",
     "iopub.status.busy": "2022-05-26T15:51:21.886739Z",
     "iopub.status.idle": "2022-05-26T15:51:22.584707Z",
     "shell.execute_reply": "2022-05-26T15:51:22.583870Z"
    },
    "papermill": {
     "duration": 2.639975,
     "end_time": "2022-05-26T15:51:22.586945",
     "exception": false,
     "start_time": "2022-05-26T15:51:19.946970",
     "status": "completed"
    },
    "tags": []
   },
   "outputs": [
    {
     "name": "stdout",
     "output_type": "stream",
     "text": [
      "ls: cannot access 'touch-leaves/models/modelFinalHopefully.pt': No such file or directory\r\n"
     ]
    }
   ],
   "source": [
    "!ls -l touch-leaves/models/modelFinalHopefully.pt"
   ]
  },
  {
   "cell_type": "code",
   "execution_count": 7,
   "id": "af65bc08",
   "metadata": {
    "execution": {
     "iopub.execute_input": "2022-05-26T15:51:26.657999Z",
     "iopub.status.busy": "2022-05-26T15:51:26.657708Z",
     "iopub.status.idle": "2022-05-26T15:51:26.663853Z",
     "shell.execute_reply": "2022-05-26T15:51:26.663069Z"
    },
    "papermill": {
     "duration": 2.168874,
     "end_time": "2022-05-26T15:51:26.666746",
     "exception": false,
     "start_time": "2022-05-26T15:51:24.497872",
     "status": "completed"
    },
    "tags": []
   },
   "outputs": [
    {
     "name": "stdout",
     "output_type": "stream",
     "text": [
      "/kaggle/working\n"
     ]
    }
   ],
   "source": [
    "%cd /kaggle/working"
   ]
  },
  {
   "cell_type": "code",
   "execution_count": 8,
   "id": "98ec6c04",
   "metadata": {
    "execution": {
     "iopub.execute_input": "2022-05-26T15:51:30.511672Z",
     "iopub.status.busy": "2022-05-26T15:51:30.510940Z",
     "iopub.status.idle": "2022-05-26T15:51:30.516642Z",
     "shell.execute_reply": "2022-05-26T15:51:30.515892Z"
    },
    "papermill": {
     "duration": 1.91813,
     "end_time": "2022-05-26T15:51:30.519357",
     "exception": false,
     "start_time": "2022-05-26T15:51:28.601227",
     "status": "completed"
    },
    "tags": []
   },
   "outputs": [
    {
     "name": "stdout",
     "output_type": "stream",
     "text": [
      "/kaggle/working/touch-leaves\n"
     ]
    }
   ],
   "source": [
    "%cd touch-leaves"
   ]
  },
  {
   "cell_type": "code",
   "execution_count": 9,
   "id": "6a5fb528",
   "metadata": {
    "execution": {
     "iopub.execute_input": "2022-05-26T15:51:34.359927Z",
     "iopub.status.busy": "2022-05-26T15:51:34.359135Z",
     "iopub.status.idle": "2022-05-26T15:51:36.273497Z",
     "shell.execute_reply": "2022-05-26T15:51:36.272296Z"
    },
    "papermill": {
     "duration": 3.85006,
     "end_time": "2022-05-26T15:51:36.278154",
     "exception": false,
     "start_time": "2022-05-26T15:51:32.428094",
     "status": "completed"
    },
    "tags": []
   },
   "outputs": [
    {
     "name": "stdout",
     "output_type": "stream",
     "text": [
      "Refresh index: 100% (20/20), done.\r\n",
      "On branch resnet-34\r\n",
      "Your branch is up to date with 'origin/resnet-34'.\r\n",
      "\r\n",
      "Changes not staged for commit:\r\n",
      "  (use \"git add <file>...\" to update what will be committed)\r\n",
      "  (use \"git restore <file>...\" to discard changes in working directory)\r\n",
      "\t\u001b[31mmodified:   models/modelFinalHopefully.pt\u001b[m\r\n",
      "\r\n",
      "no changes added to commit (use \"git add\" and/or \"git commit -a\")\r\n"
     ]
    }
   ],
   "source": [
    "!git status"
   ]
  },
  {
   "cell_type": "code",
   "execution_count": null,
   "id": "f1699642",
   "metadata": {
    "papermill": {
     "duration": 1.893395,
     "end_time": "2022-05-26T15:51:40.356947",
     "exception": false,
     "start_time": "2022-05-26T15:51:38.463552",
     "status": "completed"
    },
    "tags": []
   },
   "outputs": [],
   "source": []
  }
 ],
 "metadata": {
  "kernelspec": {
   "display_name": "Python 3",
   "language": "python",
   "name": "python3"
  },
  "language_info": {
   "codemirror_mode": {
    "name": "ipython",
    "version": 3
   },
   "file_extension": ".py",
   "mimetype": "text/x-python",
   "name": "python",
   "nbconvert_exporter": "python",
   "pygments_lexer": "ipython3",
   "version": "3.7.12"
  },
  "papermill": {
   "default_parameters": {},
   "duration": 5781.714668,
   "end_time": "2022-05-26T15:51:44.683123",
   "environment_variables": {},
   "exception": null,
   "input_path": "__notebook__.ipynb",
   "output_path": "__notebook__.ipynb",
   "parameters": {},
   "start_time": "2022-05-26T14:15:22.968455",
   "version": "2.3.4"
  },
  "widgets": {
   "application/vnd.jupyter.widget-state+json": {
    "state": {
     "1c397e72cdc140fbbd6536f042ac310b": {
      "model_module": "@jupyter-widgets/controls",
      "model_module_version": "1.5.0",
      "model_name": "FloatProgressModel",
      "state": {
       "_dom_classes": [],
       "_model_module": "@jupyter-widgets/controls",
       "_model_module_version": "1.5.0",
       "_model_name": "FloatProgressModel",
       "_view_count": null,
       "_view_module": "@jupyter-widgets/controls",
       "_view_module_version": "1.5.0",
       "_view_name": "ProgressView",
       "bar_style": "success",
       "description": "",
       "description_tooltip": null,
       "layout": "IPY_MODEL_d24ece75afd44de5b8e7a0e6a2964bfc",
       "max": 87319819.0,
       "min": 0.0,
       "orientation": "horizontal",
       "style": "IPY_MODEL_9d5d65e6069844a081667f15967c7cb8",
       "value": 87319819.0
      }
     },
     "395ed912685845179fc1a0eeadda42df": {
      "model_module": "@jupyter-widgets/base",
      "model_module_version": "1.2.0",
      "model_name": "LayoutModel",
      "state": {
       "_model_module": "@jupyter-widgets/base",
       "_model_module_version": "1.2.0",
       "_model_name": "LayoutModel",
       "_view_count": null,
       "_view_module": "@jupyter-widgets/base",
       "_view_module_version": "1.2.0",
       "_view_name": "LayoutView",
       "align_content": null,
       "align_items": null,
       "align_self": null,
       "border": null,
       "bottom": null,
       "display": null,
       "flex": null,
       "flex_flow": null,
       "grid_area": null,
       "grid_auto_columns": null,
       "grid_auto_flow": null,
       "grid_auto_rows": null,
       "grid_column": null,
       "grid_gap": null,
       "grid_row": null,
       "grid_template_areas": null,
       "grid_template_columns": null,
       "grid_template_rows": null,
       "height": null,
       "justify_content": null,
       "justify_items": null,
       "left": null,
       "margin": null,
       "max_height": null,
       "max_width": null,
       "min_height": null,
       "min_width": null,
       "object_fit": null,
       "object_position": null,
       "order": null,
       "overflow": null,
       "overflow_x": null,
       "overflow_y": null,
       "padding": null,
       "right": null,
       "top": null,
       "visibility": null,
       "width": null
      }
     },
     "4b6e3cf47f3e4ca0979fe1e41a087aff": {
      "model_module": "@jupyter-widgets/controls",
      "model_module_version": "1.5.0",
      "model_name": "HTMLModel",
      "state": {
       "_dom_classes": [],
       "_model_module": "@jupyter-widgets/controls",
       "_model_module_version": "1.5.0",
       "_model_name": "HTMLModel",
       "_view_count": null,
       "_view_module": "@jupyter-widgets/controls",
       "_view_module_version": "1.5.0",
       "_view_name": "HTMLView",
       "description": "",
       "description_tooltip": null,
       "layout": "IPY_MODEL_395ed912685845179fc1a0eeadda42df",
       "placeholder": "​",
       "style": "IPY_MODEL_7f123e5cb853469a81a8b11019782263",
       "value": " 83.3M/83.3M [00:07&lt;00:00, 23.3MB/s]"
      }
     },
     "751e1983ef944fa3a45aba6cb224b5f3": {
      "model_module": "@jupyter-widgets/base",
      "model_module_version": "1.2.0",
      "model_name": "LayoutModel",
      "state": {
       "_model_module": "@jupyter-widgets/base",
       "_model_module_version": "1.2.0",
       "_model_name": "LayoutModel",
       "_view_count": null,
       "_view_module": "@jupyter-widgets/base",
       "_view_module_version": "1.2.0",
       "_view_name": "LayoutView",
       "align_content": null,
       "align_items": null,
       "align_self": null,
       "border": null,
       "bottom": null,
       "display": null,
       "flex": null,
       "flex_flow": null,
       "grid_area": null,
       "grid_auto_columns": null,
       "grid_auto_flow": null,
       "grid_auto_rows": null,
       "grid_column": null,
       "grid_gap": null,
       "grid_row": null,
       "grid_template_areas": null,
       "grid_template_columns": null,
       "grid_template_rows": null,
       "height": null,
       "justify_content": null,
       "justify_items": null,
       "left": null,
       "margin": null,
       "max_height": null,
       "max_width": null,
       "min_height": null,
       "min_width": null,
       "object_fit": null,
       "object_position": null,
       "order": null,
       "overflow": null,
       "overflow_x": null,
       "overflow_y": null,
       "padding": null,
       "right": null,
       "top": null,
       "visibility": null,
       "width": null
      }
     },
     "7f123e5cb853469a81a8b11019782263": {
      "model_module": "@jupyter-widgets/controls",
      "model_module_version": "1.5.0",
      "model_name": "DescriptionStyleModel",
      "state": {
       "_model_module": "@jupyter-widgets/controls",
       "_model_module_version": "1.5.0",
       "_model_name": "DescriptionStyleModel",
       "_view_count": null,
       "_view_module": "@jupyter-widgets/base",
       "_view_module_version": "1.2.0",
       "_view_name": "StyleView",
       "description_width": ""
      }
     },
     "9d5d65e6069844a081667f15967c7cb8": {
      "model_module": "@jupyter-widgets/controls",
      "model_module_version": "1.5.0",
      "model_name": "ProgressStyleModel",
      "state": {
       "_model_module": "@jupyter-widgets/controls",
       "_model_module_version": "1.5.0",
       "_model_name": "ProgressStyleModel",
       "_view_count": null,
       "_view_module": "@jupyter-widgets/base",
       "_view_module_version": "1.2.0",
       "_view_name": "StyleView",
       "bar_color": null,
       "description_width": ""
      }
     },
     "a6132e476cb44a6d92359042f9ad8dc8": {
      "model_module": "@jupyter-widgets/controls",
      "model_module_version": "1.5.0",
      "model_name": "HBoxModel",
      "state": {
       "_dom_classes": [],
       "_model_module": "@jupyter-widgets/controls",
       "_model_module_version": "1.5.0",
       "_model_name": "HBoxModel",
       "_view_count": null,
       "_view_module": "@jupyter-widgets/controls",
       "_view_module_version": "1.5.0",
       "_view_name": "HBoxView",
       "box_style": "",
       "children": [
        "IPY_MODEL_bb911cfd2a6c44e0a461d1fedd8145bd",
        "IPY_MODEL_1c397e72cdc140fbbd6536f042ac310b",
        "IPY_MODEL_4b6e3cf47f3e4ca0979fe1e41a087aff"
       ],
       "layout": "IPY_MODEL_dabe0c12f1784b6f9733d378b8ec87c6"
      }
     },
     "bb911cfd2a6c44e0a461d1fedd8145bd": {
      "model_module": "@jupyter-widgets/controls",
      "model_module_version": "1.5.0",
      "model_name": "HTMLModel",
      "state": {
       "_dom_classes": [],
       "_model_module": "@jupyter-widgets/controls",
       "_model_module_version": "1.5.0",
       "_model_name": "HTMLModel",
       "_view_count": null,
       "_view_module": "@jupyter-widgets/controls",
       "_view_module_version": "1.5.0",
       "_view_name": "HTMLView",
       "description": "",
       "description_tooltip": null,
       "layout": "IPY_MODEL_751e1983ef944fa3a45aba6cb224b5f3",
       "placeholder": "​",
       "style": "IPY_MODEL_ff2298cd6d6c40af83a14d5639ae0e3b",
       "value": "100%"
      }
     },
     "d24ece75afd44de5b8e7a0e6a2964bfc": {
      "model_module": "@jupyter-widgets/base",
      "model_module_version": "1.2.0",
      "model_name": "LayoutModel",
      "state": {
       "_model_module": "@jupyter-widgets/base",
       "_model_module_version": "1.2.0",
       "_model_name": "LayoutModel",
       "_view_count": null,
       "_view_module": "@jupyter-widgets/base",
       "_view_module_version": "1.2.0",
       "_view_name": "LayoutView",
       "align_content": null,
       "align_items": null,
       "align_self": null,
       "border": null,
       "bottom": null,
       "display": null,
       "flex": null,
       "flex_flow": null,
       "grid_area": null,
       "grid_auto_columns": null,
       "grid_auto_flow": null,
       "grid_auto_rows": null,
       "grid_column": null,
       "grid_gap": null,
       "grid_row": null,
       "grid_template_areas": null,
       "grid_template_columns": null,
       "grid_template_rows": null,
       "height": null,
       "justify_content": null,
       "justify_items": null,
       "left": null,
       "margin": null,
       "max_height": null,
       "max_width": null,
       "min_height": null,
       "min_width": null,
       "object_fit": null,
       "object_position": null,
       "order": null,
       "overflow": null,
       "overflow_x": null,
       "overflow_y": null,
       "padding": null,
       "right": null,
       "top": null,
       "visibility": null,
       "width": null
      }
     },
     "dabe0c12f1784b6f9733d378b8ec87c6": {
      "model_module": "@jupyter-widgets/base",
      "model_module_version": "1.2.0",
      "model_name": "LayoutModel",
      "state": {
       "_model_module": "@jupyter-widgets/base",
       "_model_module_version": "1.2.0",
       "_model_name": "LayoutModel",
       "_view_count": null,
       "_view_module": "@jupyter-widgets/base",
       "_view_module_version": "1.2.0",
       "_view_name": "LayoutView",
       "align_content": null,
       "align_items": null,
       "align_self": null,
       "border": null,
       "bottom": null,
       "display": null,
       "flex": null,
       "flex_flow": null,
       "grid_area": null,
       "grid_auto_columns": null,
       "grid_auto_flow": null,
       "grid_auto_rows": null,
       "grid_column": null,
       "grid_gap": null,
       "grid_row": null,
       "grid_template_areas": null,
       "grid_template_columns": null,
       "grid_template_rows": null,
       "height": null,
       "justify_content": null,
       "justify_items": null,
       "left": null,
       "margin": null,
       "max_height": null,
       "max_width": null,
       "min_height": null,
       "min_width": null,
       "object_fit": null,
       "object_position": null,
       "order": null,
       "overflow": null,
       "overflow_x": null,
       "overflow_y": null,
       "padding": null,
       "right": null,
       "top": null,
       "visibility": null,
       "width": null
      }
     },
     "ff2298cd6d6c40af83a14d5639ae0e3b": {
      "model_module": "@jupyter-widgets/controls",
      "model_module_version": "1.5.0",
      "model_name": "DescriptionStyleModel",
      "state": {
       "_model_module": "@jupyter-widgets/controls",
       "_model_module_version": "1.5.0",
       "_model_name": "DescriptionStyleModel",
       "_view_count": null,
       "_view_module": "@jupyter-widgets/base",
       "_view_module_version": "1.2.0",
       "_view_name": "StyleView",
       "description_width": ""
      }
     }
    },
    "version_major": 2,
    "version_minor": 0
   }
  }
 },
 "nbformat": 4,
 "nbformat_minor": 5
}
