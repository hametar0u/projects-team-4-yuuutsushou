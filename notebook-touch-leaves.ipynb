{
 "cells": [
  {
   "cell_type": "code",
   "execution_count": 1,
   "id": "1fb16e96",
   "metadata": {
    "execution": {
     "iopub.execute_input": "2022-05-25T20:08:52.446384Z",
     "iopub.status.busy": "2022-05-25T20:08:52.445984Z",
     "iopub.status.idle": "2022-05-25T20:08:58.036468Z",
     "shell.execute_reply": "2022-05-25T20:08:58.035605Z"
    },
    "papermill": {
     "duration": 5.606157,
     "end_time": "2022-05-25T20:08:58.039272",
     "exception": false,
     "start_time": "2022-05-25T20:08:52.433115",
     "status": "completed"
    },
    "tags": []
   },
   "outputs": [
    {
     "name": "stdout",
     "output_type": "stream",
     "text": [
      "Cloning into 'touch-leaves'...\r\n",
      "remote: Enumerating objects: 369, done.\u001b[K\r\n",
      "remote: Counting objects: 100% (101/101), done.\u001b[K\r\n",
      "remote: Compressing objects: 100% (56/56), done.\u001b[K\r\n",
      "remote: Total 369 (delta 46), reused 96 (delta 41), pack-reused 268\u001b[K\r\n",
      "Receiving objects: 100% (369/369), 81.12 MiB | 32.37 MiB/s, done.\r\n",
      "Resolving deltas: 100% (167/167), done.\r\n"
     ]
    }
   ],
   "source": [
    "!git clone https://github.com/hametar0u/touch-leaves.git --branch plagiarism-monkey"
   ]
  },
  {
   "cell_type": "code",
   "execution_count": 2,
   "id": "f1dea55b",
   "metadata": {
    "execution": {
     "iopub.execute_input": "2022-05-25T20:08:58.068858Z",
     "iopub.status.busy": "2022-05-25T20:08:58.068628Z",
     "iopub.status.idle": "2022-05-25T20:08:58.074204Z",
     "shell.execute_reply": "2022-05-25T20:08:58.073513Z"
    },
    "papermill": {
     "duration": 0.022393,
     "end_time": "2022-05-25T20:08:58.076356",
     "exception": false,
     "start_time": "2022-05-25T20:08:58.053963",
     "status": "completed"
    },
    "tags": []
   },
   "outputs": [
    {
     "name": "stdout",
     "output_type": "stream",
     "text": [
      "/kaggle/working/touch-leaves\n"
     ]
    }
   ],
   "source": [
    "%cd touch-leaves"
   ]
  },
  {
   "cell_type": "code",
   "execution_count": 3,
   "id": "bfc9ee48",
   "metadata": {
    "execution": {
     "iopub.execute_input": "2022-05-25T20:08:58.105253Z",
     "iopub.status.busy": "2022-05-25T20:08:58.104822Z",
     "iopub.status.idle": "2022-05-25T20:08:59.091060Z",
     "shell.execute_reply": "2022-05-25T20:08:59.090330Z"
    },
    "papermill": {
     "duration": 1.003155,
     "end_time": "2022-05-25T20:08:59.093327",
     "exception": false,
     "start_time": "2022-05-25T20:08:58.090172",
     "status": "completed"
    },
    "tags": []
   },
   "outputs": [
    {
     "name": "stdout",
     "output_type": "stream",
     "text": [
      "From https://github.com/hametar0u/touch-leaves\r\n",
      " * branch            torch-save -> FETCH_HEAD\r\n",
      "Already up to date.\r\n"
     ]
    }
   ],
   "source": [
    "# Restart the notebook after pull\n",
    "!git pull origin torch-save"
   ]
  },
  {
   "cell_type": "code",
   "execution_count": 4,
   "id": "edc1d8c8",
   "metadata": {
    "execution": {
     "iopub.execute_input": "2022-05-25T20:08:59.123437Z",
     "iopub.status.busy": "2022-05-25T20:08:59.123183Z",
     "iopub.status.idle": "2022-05-25T21:39:10.344529Z",
     "shell.execute_reply": "2022-05-25T21:39:10.343301Z"
    },
    "papermill": {
     "duration": 5411.238726,
     "end_time": "2022-05-25T21:39:10.346573",
     "exception": false,
     "start_time": "2022-05-25T20:08:59.107847",
     "status": "completed"
    },
    "tags": []
   },
   "outputs": [
    {
     "name": "stdout",
     "output_type": "stream",
     "text": [
      "/kaggle/working/touch-leaves\n",
      "Running on GPU\n",
      "Tesla P100-PCIE-16GB\n",
      "Running on GPU\n",
      "Tesla P100-PCIE-16GB\n"
     ]
    },
    {
     "name": "stderr",
     "output_type": "stream",
     "text": [
      "Downloading: \"https://github.com/pytorch/vision/archive/v0.9.0.zip\" to /root/.cache/torch/hub/v0.9.0.zip\n",
      "Downloading: \"https://download.pytorch.org/models/resnet18-f37072fd.pth\" to /root/.cache/torch/hub/checkpoints/resnet18-f37072fd.pth\n"
     ]
    },
    {
     "data": {
      "application/vnd.jupyter.widget-view+json": {
       "model_id": "784bf494faa4413f9a82315731118f32",
       "version_major": 2,
       "version_minor": 0
      },
      "text/plain": [
       "  0%|          | 0.00/44.7M [00:00<?, ?B/s]"
      ]
     },
     "metadata": {},
     "output_type": "display_data"
    },
    {
     "name": "stdout",
     "output_type": "stream",
     "text": [
      "Epochs: 10\n",
      "Batch size: 32\n",
      "train size: 19397 - eval size: 1999\n",
      "error\n",
      "Epoch 1 of 10\n"
     ]
    },
    {
     "name": "stderr",
     "output_type": "stream",
     "text": [
      " 41%|████      | 249/607 [03:59<05:25,  1.10it/s]"
     ]
    },
    {
     "name": "stdout",
     "output_type": "stream",
     "text": [
      "\n",
      "Training Results: Accuracy - 62.5%, Loss - 1.120310844898224\n",
      "Evaluation Results: Accuracy - 63.24074074074074%, Loss - 0.9571027642204648\n"
     ]
    },
    {
     "name": "stderr",
     "output_type": "stream",
     "text": [
      " 82%|████████▏ | 499/607 [08:44<01:39,  1.09it/s]"
     ]
    },
    {
     "name": "stdout",
     "output_type": "stream",
     "text": [
      "\n",
      "Training Results: Accuracy - 56.25%, Loss - 1.0180884934663772\n",
      "Evaluation Results: Accuracy - 70.05621693121694%, Loss - 0.811427774883452\n"
     ]
    },
    {
     "name": "stderr",
     "output_type": "stream",
     "text": [
      "100%|██████████| 607/607 [11:05<00:00,  1.10s/it]\n"
     ]
    },
    {
     "name": "stdout",
     "output_type": "stream",
     "text": [
      "Epoch 2 of 10\n"
     ]
    },
    {
     "name": "stderr",
     "output_type": "stream",
     "text": [
      " 23%|██▎       | 142/607 [01:37<05:07,  1.51it/s]"
     ]
    },
    {
     "name": "stdout",
     "output_type": "stream",
     "text": [
      "\n",
      "Training Results: Accuracy - 78.125%, Loss - 0.7715086678524951\n",
      "Evaluation Results: Accuracy - 74.37830687830687%, Loss - 0.7130790972520434\n"
     ]
    },
    {
     "name": "stderr",
     "output_type": "stream",
     "text": [
      " 65%|██████▍   | 392/607 [05:11<02:24,  1.49it/s]"
     ]
    },
    {
     "name": "stdout",
     "output_type": "stream",
     "text": [
      "\n",
      "Training Results: Accuracy - 78.125%, Loss - 0.7316022936927756\n",
      "Evaluation Results: Accuracy - 73.34325396825396%, Loss - 0.6891297532452477\n"
     ]
    },
    {
     "name": "stderr",
     "output_type": "stream",
     "text": [
      "100%|██████████| 607/607 [08:20<00:00,  1.21it/s]\n"
     ]
    },
    {
     "name": "stdout",
     "output_type": "stream",
     "text": [
      "Epoch 3 of 10\n"
     ]
    },
    {
     "name": "stderr",
     "output_type": "stream",
     "text": [
      "  6%|▌         | 35/607 [00:23<06:19,  1.51it/s]"
     ]
    },
    {
     "name": "stdout",
     "output_type": "stream",
     "text": [
      "\n",
      "Training Results: Accuracy - 81.25%, Loss - 0.6354397700892555\n",
      "Evaluation Results: Accuracy - 73.58465608465607%, Loss - 0.710261585220458\n"
     ]
    },
    {
     "name": "stderr",
     "output_type": "stream",
     "text": [
      " 47%|████▋     | 285/607 [03:58<03:40,  1.46it/s]"
     ]
    },
    {
     "name": "stdout",
     "output_type": "stream",
     "text": [
      "\n",
      "Training Results: Accuracy - 84.375%, Loss - 0.6190081557610652\n",
      "Evaluation Results: Accuracy - 77.7579365079365%, Loss - 0.619782236833421\n"
     ]
    },
    {
     "name": "stderr",
     "output_type": "stream",
     "text": [
      " 88%|████████▊ | 535/607 [07:32<00:47,  1.52it/s]"
     ]
    },
    {
     "name": "stdout",
     "output_type": "stream",
     "text": [
      "\n",
      "Training Results: Accuracy - 75.0%, Loss - 0.6079056174841835\n",
      "Evaluation Results: Accuracy - 78.50859788359789%, Loss - 0.6023654365350329\n"
     ]
    },
    {
     "name": "stderr",
     "output_type": "stream",
     "text": [
      "100%|██████████| 607/607 [09:02<00:00,  1.12it/s]\n"
     ]
    },
    {
     "name": "stdout",
     "output_type": "stream",
     "text": [
      "Epoch 4 of 10\n"
     ]
    },
    {
     "name": "stderr",
     "output_type": "stream",
     "text": [
      " 29%|██▉       | 178/607 [02:03<05:04,  1.41it/s]"
     ]
    },
    {
     "name": "stdout",
     "output_type": "stream",
     "text": [
      "\n",
      "Training Results: Accuracy - 78.125%, Loss - 0.5560574183583925\n",
      "Evaluation Results: Accuracy - 77.75132275132275%, Loss - 0.6287061567344363\n"
     ]
    },
    {
     "name": "stderr",
     "output_type": "stream",
     "text": [
      " 71%|███████   | 428/607 [05:39<01:59,  1.49it/s]"
     ]
    },
    {
     "name": "stdout",
     "output_type": "stream",
     "text": [
      "\n",
      "Training Results: Accuracy - 71.875%, Loss - 0.5513416653051799\n",
      "Evaluation Results: Accuracy - 77.88690476190476%, Loss - 0.605000582952348\n"
     ]
    },
    {
     "name": "stderr",
     "output_type": "stream",
     "text": [
      "100%|██████████| 607/607 [08:23<00:00,  1.20it/s]\n"
     ]
    },
    {
     "name": "stdout",
     "output_type": "stream",
     "text": [
      "Epoch 5 of 10\n"
     ]
    },
    {
     "name": "stderr",
     "output_type": "stream",
     "text": [
      " 12%|█▏        | 71/607 [00:50<06:09,  1.45it/s]"
     ]
    },
    {
     "name": "stdout",
     "output_type": "stream",
     "text": [
      "\n",
      "Training Results: Accuracy - 87.5%, Loss - 0.474120039285885\n",
      "Evaluation Results: Accuracy - 78.26719576719576%, Loss - 0.6363737535855126\n"
     ]
    },
    {
     "name": "stderr",
     "output_type": "stream",
     "text": [
      " 53%|█████▎    | 321/607 [04:25<03:25,  1.39it/s]"
     ]
    },
    {
     "name": "stdout",
     "output_type": "stream",
     "text": [
      "\n",
      "Training Results: Accuracy - 78.125%, Loss - 0.4807735232185133\n",
      "Evaluation Results: Accuracy - 77.99933862433862%, Loss - 0.6030984800013285\n"
     ]
    },
    {
     "name": "stderr",
     "output_type": "stream",
     "text": [
      " 94%|█████████▍| 571/607 [08:01<00:24,  1.48it/s]"
     ]
    },
    {
     "name": "stdout",
     "output_type": "stream",
     "text": [
      "\n",
      "Training Results: Accuracy - 78.125%, Loss - 0.4933417438418715\n",
      "Evaluation Results: Accuracy - 78.49537037037037%, Loss - 0.6361324238398719\n"
     ]
    },
    {
     "name": "stderr",
     "output_type": "stream",
     "text": [
      "100%|██████████| 607/607 [09:06<00:00,  1.11it/s]\n"
     ]
    },
    {
     "name": "stdout",
     "output_type": "stream",
     "text": [
      "Epoch 6 of 10\n"
     ]
    },
    {
     "name": "stderr",
     "output_type": "stream",
     "text": [
      " 35%|███▌      | 214/607 [02:32<04:28,  1.46it/s]"
     ]
    },
    {
     "name": "stdout",
     "output_type": "stream",
     "text": [
      "\n",
      "Training Results: Accuracy - 87.5%, Loss - 0.409437523089176\n",
      "Evaluation Results: Accuracy - 76.90145502645503%, Loss - 0.6555347158795312\n"
     ]
    },
    {
     "name": "stderr",
     "output_type": "stream",
     "text": [
      " 76%|███████▋  | 464/607 [06:08<01:35,  1.49it/s]"
     ]
    },
    {
     "name": "stdout",
     "output_type": "stream",
     "text": [
      "\n",
      "Training Results: Accuracy - 78.125%, Loss - 0.4294972661201672\n",
      "Evaluation Results: Accuracy - 77.36772486772487%, Loss - 0.6264912973320673\n"
     ]
    },
    {
     "name": "stderr",
     "output_type": "stream",
     "text": [
      "100%|██████████| 607/607 [08:29<00:00,  1.19it/s]\n"
     ]
    },
    {
     "name": "stdout",
     "output_type": "stream",
     "text": [
      "Epoch 7 of 10\n"
     ]
    },
    {
     "name": "stderr",
     "output_type": "stream",
     "text": [
      " 18%|█▊        | 107/607 [01:14<05:32,  1.50it/s]"
     ]
    },
    {
     "name": "stdout",
     "output_type": "stream",
     "text": [
      "\n",
      "Training Results: Accuracy - 96.875%, Loss - 0.3736281226630564\n",
      "Evaluation Results: Accuracy - 79.94708994708995%, Loss - 0.6062287901129041\n"
     ]
    },
    {
     "name": "stderr",
     "output_type": "stream",
     "text": [
      " 59%|█████▉    | 357/607 [04:52<02:48,  1.49it/s]"
     ]
    },
    {
     "name": "stdout",
     "output_type": "stream",
     "text": [
      "\n",
      "Training Results: Accuracy - 93.75%, Loss - 0.36705483618978013\n",
      "Evaluation Results: Accuracy - 80.22486772486774%, Loss - 0.5791491655603288\n"
     ]
    },
    {
     "name": "stderr",
     "output_type": "stream",
     "text": [
      "100%|██████████| 607/607 [08:29<00:00,  1.19it/s]\n"
     ]
    },
    {
     "name": "stdout",
     "output_type": "stream",
     "text": [
      "Epoch 8 of 10\n"
     ]
    },
    {
     "name": "stderr",
     "output_type": "stream",
     "text": [
      "  0%|          | 0/607 [00:00<?, ?it/s]"
     ]
    },
    {
     "name": "stdout",
     "output_type": "stream",
     "text": [
      "\n",
      "Training Results: Accuracy - 93.75%, Loss - 0.24158959090709686\n",
      "Evaluation Results: Accuracy - 80.13888888888889%, Loss - 0.6326521618498696\n"
     ]
    },
    {
     "name": "stderr",
     "output_type": "stream",
     "text": [
      " 41%|████      | 250/607 [03:37<03:58,  1.50it/s]"
     ]
    },
    {
     "name": "stdout",
     "output_type": "stream",
     "text": [
      "\n",
      "Training Results: Accuracy - 84.375%, Loss - 0.2659413682601129\n",
      "Evaluation Results: Accuracy - 77.0568783068783%, Loss - 0.745174923586467\n"
     ]
    },
    {
     "name": "stderr",
     "output_type": "stream",
     "text": [
      " 82%|████████▏ | 500/607 [07:14<01:27,  1.23it/s]"
     ]
    },
    {
     "name": "stdout",
     "output_type": "stream",
     "text": [
      "\n",
      "Training Results: Accuracy - 93.75%, Loss - 0.28412930714245327\n",
      "Evaluation Results: Accuracy - 76.4616402116402%, Loss - 0.7319095484794133\n"
     ]
    },
    {
     "name": "stderr",
     "output_type": "stream",
     "text": [
      "100%|██████████| 607/607 [09:10<00:00,  1.10it/s]\n"
     ]
    },
    {
     "name": "stdout",
     "output_type": "stream",
     "text": [
      "Epoch 9 of 10\n"
     ]
    },
    {
     "name": "stderr",
     "output_type": "stream",
     "text": [
      " 24%|██▎       | 143/607 [01:41<05:12,  1.49it/s]"
     ]
    },
    {
     "name": "stdout",
     "output_type": "stream",
     "text": [
      "\n",
      "Training Results: Accuracy - 93.75%, Loss - 0.1832507888191483\n",
      "Evaluation Results: Accuracy - 78.10515873015873%, Loss - 0.792837288171526\n"
     ]
    },
    {
     "name": "stderr",
     "output_type": "stream",
     "text": [
      " 65%|██████▍   | 393/607 [05:19<02:31,  1.41it/s]"
     ]
    },
    {
     "name": "stdout",
     "output_type": "stream",
     "text": [
      "\n",
      "Training Results: Accuracy - 100.0%, Loss - 0.2096745060392783\n",
      "Evaluation Results: Accuracy - 77.9563492063492%, Loss - 0.7608974008333116\n"
     ]
    },
    {
     "name": "stderr",
     "output_type": "stream",
     "text": [
      "100%|██████████| 607/607 [08:33<00:00,  1.18it/s]\n"
     ]
    },
    {
     "name": "stdout",
     "output_type": "stream",
     "text": [
      "Epoch 10 of 10\n"
     ]
    },
    {
     "name": "stderr",
     "output_type": "stream",
     "text": [
      "  6%|▌         | 36/607 [00:26<06:46,  1.41it/s]"
     ]
    },
    {
     "name": "stdout",
     "output_type": "stream",
     "text": [
      "\n",
      "Training Results: Accuracy - 96.875%, Loss - 0.13303891871426557\n",
      "Evaluation Results: Accuracy - 78.80621693121694%, Loss - 0.8155631723385008\n"
     ]
    },
    {
     "name": "stderr",
     "output_type": "stream",
     "text": [
      " 47%|████▋     | 286/607 [04:06<03:49,  1.40it/s]"
     ]
    },
    {
     "name": "stdout",
     "output_type": "stream",
     "text": [
      "\n",
      "Training Results: Accuracy - 93.75%, Loss - 0.1368618689165921\n",
      "Evaluation Results: Accuracy - 76.53108465608464%, Loss - 0.8826211378687904\n"
     ]
    },
    {
     "name": "stderr",
     "output_type": "stream",
     "text": [
      " 88%|████████▊ | 536/607 [07:46<00:52,  1.35it/s]"
     ]
    },
    {
     "name": "stdout",
     "output_type": "stream",
     "text": [
      "\n",
      "Training Results: Accuracy - 100.0%, Loss - 0.15453097811124844\n",
      "Evaluation Results: Accuracy - 78.31018518518519%, Loss - 0.8707528100127265\n"
     ]
    },
    {
     "name": "stderr",
     "output_type": "stream",
     "text": [
      "100%|██████████| 607/607 [09:17<00:00,  1.09it/s]\n"
     ]
    }
   ],
   "source": [
    "%cd \"/kaggle/working/touch-leaves\"\n",
    "\n",
    "import os\n",
    "\n",
    "import constants\n",
    "from data.StartingDataset import StartingDataset\n",
    "# from networks.StartingNetwork import StartingNetwork\n",
    "from train_functions.starting_train import starting_train\n",
    "from networks.LessDumbNetwork import AliceWithAGun\n",
    "from networks.TotallyMyNetwork import TotallyMyNetwork\n",
    "\n",
    "import torch\n",
    "\n",
    "#TODO:\n",
    "#dropout regularization\n",
    "#unfreezing resnet\n",
    "\n",
    "def main():\n",
    "\n",
    "    model = TotallyMyNetwork()\n",
    "    # model = StartingNetwork()\n",
    "\n",
    "    # Get command line arguments\n",
    "    hyperparameters = {\"epochs\": constants.EPOCHS, \"batch_size\": constants.BATCH_SIZE}\n",
    "\n",
    "    # TODO: Add GPU support. This line of code might be helpful.\n",
    "    device = torch.device(\"cuda\" if torch.cuda.is_available() else \"cpu\")\n",
    "\n",
    "    print(\"Epochs:\", constants.EPOCHS)\n",
    "    print(\"Batch size:\", constants.BATCH_SIZE)\n",
    "\n",
    "    # Initalize dataset and model. Then train the model!\n",
    "    train_dataset = StartingDataset()\n",
    "    val_dataset = StartingDataset(eval=True)\n",
    "    print(f\"train size: {len(train_dataset)} - eval size: {len(val_dataset)}\")\n",
    "\n",
    "    starting_train(\n",
    "        train_dataset=train_dataset,\n",
    "        val_dataset=val_dataset,\n",
    "        model=model,\n",
    "        hyperparameters=hyperparameters,\n",
    "        n_eval=constants.N_EVAL,\n",
    "    )\n",
    "\n",
    "\n",
    "if __name__ == \"__main__\":\n",
    "    main()\n"
   ]
  },
  {
   "cell_type": "code",
   "execution_count": 5,
   "id": "48b34f65",
   "metadata": {
    "execution": {
     "iopub.execute_input": "2022-05-25T21:39:14.622667Z",
     "iopub.status.busy": "2022-05-25T21:39:14.622402Z",
     "iopub.status.idle": "2022-05-25T21:39:15.322721Z",
     "shell.execute_reply": "2022-05-25T21:39:15.321759Z"
    },
    "papermill": {
     "duration": 2.667773,
     "end_time": "2022-05-25T21:39:15.325047",
     "exception": false,
     "start_time": "2022-05-25T21:39:12.657274",
     "status": "completed"
    },
    "tags": []
   },
   "outputs": [
    {
     "name": "stdout",
     "output_type": "stream",
     "text": [
      "/kaggle/working/touch-leaves\r\n"
     ]
    }
   ],
   "source": [
    "!pwd"
   ]
  },
  {
   "cell_type": "code",
   "execution_count": null,
   "id": "2b2b4d92",
   "metadata": {
    "papermill": {
     "duration": 1.862991,
     "end_time": "2022-05-25T21:39:19.311369",
     "exception": false,
     "start_time": "2022-05-25T21:39:17.448378",
     "status": "completed"
    },
    "tags": []
   },
   "outputs": [],
   "source": []
  },
  {
   "cell_type": "markdown",
   "id": "4b49fdf4",
   "metadata": {
    "papermill": {
     "duration": 1.962003,
     "end_time": "2022-05-25T21:39:23.128181",
     "exception": false,
     "start_time": "2022-05-25T21:39:21.166178",
     "status": "completed"
    },
    "tags": []
   },
   "source": [
    "<a href=\"touch-leaves/models/modelFinalHopefully.pt\"> Download model </a>"
   ]
  },
  {
   "cell_type": "code",
   "execution_count": 6,
   "id": "4ecefaf7",
   "metadata": {
    "execution": {
     "iopub.execute_input": "2022-05-25T21:39:26.850353Z",
     "iopub.status.busy": "2022-05-25T21:39:26.850068Z",
     "iopub.status.idle": "2022-05-25T21:39:27.538806Z",
     "shell.execute_reply": "2022-05-25T21:39:27.538026Z"
    },
    "papermill": {
     "duration": 2.553262,
     "end_time": "2022-05-25T21:39:27.540608",
     "exception": false,
     "start_time": "2022-05-25T21:39:24.987346",
     "status": "completed"
    },
    "tags": []
   },
   "outputs": [
    {
     "name": "stdout",
     "output_type": "stream",
     "text": [
      "ls: cannot access 'touch-leaves/models/modelFinalHopefully.pt': No such file or directory\r\n"
     ]
    }
   ],
   "source": [
    "!ls -l touch-leaves/models/modelFinalHopefully.pt"
   ]
  },
  {
   "cell_type": "code",
   "execution_count": 7,
   "id": "f358ba29",
   "metadata": {
    "execution": {
     "iopub.execute_input": "2022-05-25T21:39:31.572918Z",
     "iopub.status.busy": "2022-05-25T21:39:31.572641Z",
     "iopub.status.idle": "2022-05-25T21:39:31.580828Z",
     "shell.execute_reply": "2022-05-25T21:39:31.580130Z"
    },
    "papermill": {
     "duration": 1.889453,
     "end_time": "2022-05-25T21:39:31.586066",
     "exception": false,
     "start_time": "2022-05-25T21:39:29.696613",
     "status": "completed"
    },
    "tags": []
   },
   "outputs": [
    {
     "name": "stdout",
     "output_type": "stream",
     "text": [
      "/kaggle/working\n"
     ]
    }
   ],
   "source": [
    "%cd /kaggle/working"
   ]
  },
  {
   "cell_type": "code",
   "execution_count": 8,
   "id": "e9ec4c49",
   "metadata": {
    "execution": {
     "iopub.execute_input": "2022-05-25T21:39:35.451722Z",
     "iopub.status.busy": "2022-05-25T21:39:35.451456Z",
     "iopub.status.idle": "2022-05-25T21:39:35.456618Z",
     "shell.execute_reply": "2022-05-25T21:39:35.455934Z"
    },
    "papermill": {
     "duration": 1.883118,
     "end_time": "2022-05-25T21:39:35.458705",
     "exception": false,
     "start_time": "2022-05-25T21:39:33.575587",
     "status": "completed"
    },
    "tags": []
   },
   "outputs": [
    {
     "name": "stdout",
     "output_type": "stream",
     "text": [
      "/kaggle/working/touch-leaves\n"
     ]
    }
   ],
   "source": [
    "%cd touch-leaves"
   ]
  },
  {
   "cell_type": "code",
   "execution_count": 9,
   "id": "eefa4435",
   "metadata": {
    "execution": {
     "iopub.execute_input": "2022-05-25T21:39:39.486763Z",
     "iopub.status.busy": "2022-05-25T21:39:39.486490Z",
     "iopub.status.idle": "2022-05-25T21:39:40.776391Z",
     "shell.execute_reply": "2022-05-25T21:39:40.775489Z"
    },
    "papermill": {
     "duration": 3.415349,
     "end_time": "2022-05-25T21:39:40.778747",
     "exception": false,
     "start_time": "2022-05-25T21:39:37.363398",
     "status": "completed"
    },
    "tags": []
   },
   "outputs": [
    {
     "name": "stdout",
     "output_type": "stream",
     "text": [
      "On branch plagiarism-monkey\r\n",
      "Your branch is up to date with 'origin/plagiarism-monkey'.\r\n",
      "\r\n",
      "Changes not staged for commit:\r\n",
      "  (use \"git add <file>...\" to update what will be committed)\r\n",
      "  (use \"git restore <file>...\" to discard changes in working directory)\r\n",
      "\t\u001b[31mmodified:   models/modelFinalHopefully.pt\u001b[m\r\n",
      "\r\n",
      "no changes added to commit (use \"git add\" and/or \"git commit -a\")\r\n"
     ]
    }
   ],
   "source": [
    "!git status"
   ]
  },
  {
   "cell_type": "code",
   "execution_count": null,
   "id": "27393945",
   "metadata": {
    "papermill": {
     "duration": 2.407641,
     "end_time": "2022-05-25T21:39:45.101244",
     "exception": false,
     "start_time": "2022-05-25T21:39:42.693603",
     "status": "completed"
    },
    "tags": []
   },
   "outputs": [],
   "source": []
  }
 ],
 "metadata": {
  "kernelspec": {
   "display_name": "Python 3",
   "language": "python",
   "name": "python3"
  },
  "language_info": {
   "codemirror_mode": {
    "name": "ipython",
    "version": 3
   },
   "file_extension": ".py",
   "mimetype": "text/x-python",
   "name": "python",
   "nbconvert_exporter": "python",
   "pygments_lexer": "ipython3",
   "version": "3.7.12"
  },
  "papermill": {
   "default_parameters": {},
   "duration": 5464.383973,
   "end_time": "2022-05-25T21:39:48.463733",
   "environment_variables": {},
   "exception": null,
   "input_path": "__notebook__.ipynb",
   "output_path": "__notebook__.ipynb",
   "parameters": {},
   "start_time": "2022-05-25T20:08:44.079760",
   "version": "2.3.4"
  },
  "widgets": {
   "application/vnd.jupyter.widget-state+json": {
    "state": {
     "20ad5a8c3a094c708dc0f34e4b28bbe4": {
      "model_module": "@jupyter-widgets/base",
      "model_module_version": "1.2.0",
      "model_name": "LayoutModel",
      "state": {
       "_model_module": "@jupyter-widgets/base",
       "_model_module_version": "1.2.0",
       "_model_name": "LayoutModel",
       "_view_count": null,
       "_view_module": "@jupyter-widgets/base",
       "_view_module_version": "1.2.0",
       "_view_name": "LayoutView",
       "align_content": null,
       "align_items": null,
       "align_self": null,
       "border": null,
       "bottom": null,
       "display": null,
       "flex": null,
       "flex_flow": null,
       "grid_area": null,
       "grid_auto_columns": null,
       "grid_auto_flow": null,
       "grid_auto_rows": null,
       "grid_column": null,
       "grid_gap": null,
       "grid_row": null,
       "grid_template_areas": null,
       "grid_template_columns": null,
       "grid_template_rows": null,
       "height": null,
       "justify_content": null,
       "justify_items": null,
       "left": null,
       "margin": null,
       "max_height": null,
       "max_width": null,
       "min_height": null,
       "min_width": null,
       "object_fit": null,
       "object_position": null,
       "order": null,
       "overflow": null,
       "overflow_x": null,
       "overflow_y": null,
       "padding": null,
       "right": null,
       "top": null,
       "visibility": null,
       "width": null
      }
     },
     "3f0aafde976e49959a2c84537ec01632": {
      "model_module": "@jupyter-widgets/controls",
      "model_module_version": "1.5.0",
      "model_name": "DescriptionStyleModel",
      "state": {
       "_model_module": "@jupyter-widgets/controls",
       "_model_module_version": "1.5.0",
       "_model_name": "DescriptionStyleModel",
       "_view_count": null,
       "_view_module": "@jupyter-widgets/base",
       "_view_module_version": "1.2.0",
       "_view_name": "StyleView",
       "description_width": ""
      }
     },
     "6027fb3e9cbc42d6b771f521e6bd7a74": {
      "model_module": "@jupyter-widgets/base",
      "model_module_version": "1.2.0",
      "model_name": "LayoutModel",
      "state": {
       "_model_module": "@jupyter-widgets/base",
       "_model_module_version": "1.2.0",
       "_model_name": "LayoutModel",
       "_view_count": null,
       "_view_module": "@jupyter-widgets/base",
       "_view_module_version": "1.2.0",
       "_view_name": "LayoutView",
       "align_content": null,
       "align_items": null,
       "align_self": null,
       "border": null,
       "bottom": null,
       "display": null,
       "flex": null,
       "flex_flow": null,
       "grid_area": null,
       "grid_auto_columns": null,
       "grid_auto_flow": null,
       "grid_auto_rows": null,
       "grid_column": null,
       "grid_gap": null,
       "grid_row": null,
       "grid_template_areas": null,
       "grid_template_columns": null,
       "grid_template_rows": null,
       "height": null,
       "justify_content": null,
       "justify_items": null,
       "left": null,
       "margin": null,
       "max_height": null,
       "max_width": null,
       "min_height": null,
       "min_width": null,
       "object_fit": null,
       "object_position": null,
       "order": null,
       "overflow": null,
       "overflow_x": null,
       "overflow_y": null,
       "padding": null,
       "right": null,
       "top": null,
       "visibility": null,
       "width": null
      }
     },
     "784bf494faa4413f9a82315731118f32": {
      "model_module": "@jupyter-widgets/controls",
      "model_module_version": "1.5.0",
      "model_name": "HBoxModel",
      "state": {
       "_dom_classes": [],
       "_model_module": "@jupyter-widgets/controls",
       "_model_module_version": "1.5.0",
       "_model_name": "HBoxModel",
       "_view_count": null,
       "_view_module": "@jupyter-widgets/controls",
       "_view_module_version": "1.5.0",
       "_view_name": "HBoxView",
       "box_style": "",
       "children": [
        "IPY_MODEL_968f8ef89edd4d8bb31a0175141edb8a",
        "IPY_MODEL_f0431e5b81b54b2f88b223069b4eed6c",
        "IPY_MODEL_d1e34181544a4f8badcba9cd8c00fff4"
       ],
       "layout": "IPY_MODEL_7da47142a1824b1abd2595c1a209d67a"
      }
     },
     "7da47142a1824b1abd2595c1a209d67a": {
      "model_module": "@jupyter-widgets/base",
      "model_module_version": "1.2.0",
      "model_name": "LayoutModel",
      "state": {
       "_model_module": "@jupyter-widgets/base",
       "_model_module_version": "1.2.0",
       "_model_name": "LayoutModel",
       "_view_count": null,
       "_view_module": "@jupyter-widgets/base",
       "_view_module_version": "1.2.0",
       "_view_name": "LayoutView",
       "align_content": null,
       "align_items": null,
       "align_self": null,
       "border": null,
       "bottom": null,
       "display": null,
       "flex": null,
       "flex_flow": null,
       "grid_area": null,
       "grid_auto_columns": null,
       "grid_auto_flow": null,
       "grid_auto_rows": null,
       "grid_column": null,
       "grid_gap": null,
       "grid_row": null,
       "grid_template_areas": null,
       "grid_template_columns": null,
       "grid_template_rows": null,
       "height": null,
       "justify_content": null,
       "justify_items": null,
       "left": null,
       "margin": null,
       "max_height": null,
       "max_width": null,
       "min_height": null,
       "min_width": null,
       "object_fit": null,
       "object_position": null,
       "order": null,
       "overflow": null,
       "overflow_x": null,
       "overflow_y": null,
       "padding": null,
       "right": null,
       "top": null,
       "visibility": null,
       "width": null
      }
     },
     "8a49a02de1734227a3378537c0a493a7": {
      "model_module": "@jupyter-widgets/base",
      "model_module_version": "1.2.0",
      "model_name": "LayoutModel",
      "state": {
       "_model_module": "@jupyter-widgets/base",
       "_model_module_version": "1.2.0",
       "_model_name": "LayoutModel",
       "_view_count": null,
       "_view_module": "@jupyter-widgets/base",
       "_view_module_version": "1.2.0",
       "_view_name": "LayoutView",
       "align_content": null,
       "align_items": null,
       "align_self": null,
       "border": null,
       "bottom": null,
       "display": null,
       "flex": null,
       "flex_flow": null,
       "grid_area": null,
       "grid_auto_columns": null,
       "grid_auto_flow": null,
       "grid_auto_rows": null,
       "grid_column": null,
       "grid_gap": null,
       "grid_row": null,
       "grid_template_areas": null,
       "grid_template_columns": null,
       "grid_template_rows": null,
       "height": null,
       "justify_content": null,
       "justify_items": null,
       "left": null,
       "margin": null,
       "max_height": null,
       "max_width": null,
       "min_height": null,
       "min_width": null,
       "object_fit": null,
       "object_position": null,
       "order": null,
       "overflow": null,
       "overflow_x": null,
       "overflow_y": null,
       "padding": null,
       "right": null,
       "top": null,
       "visibility": null,
       "width": null
      }
     },
     "968f8ef89edd4d8bb31a0175141edb8a": {
      "model_module": "@jupyter-widgets/controls",
      "model_module_version": "1.5.0",
      "model_name": "HTMLModel",
      "state": {
       "_dom_classes": [],
       "_model_module": "@jupyter-widgets/controls",
       "_model_module_version": "1.5.0",
       "_model_name": "HTMLModel",
       "_view_count": null,
       "_view_module": "@jupyter-widgets/controls",
       "_view_module_version": "1.5.0",
       "_view_name": "HTMLView",
       "description": "",
       "description_tooltip": null,
       "layout": "IPY_MODEL_20ad5a8c3a094c708dc0f34e4b28bbe4",
       "placeholder": "​",
       "style": "IPY_MODEL_d89463fa9f444f0ea538c1c5c6f22e6a",
       "value": "100%"
      }
     },
     "cd4f125c3b304f47ab5adc4cec564dd3": {
      "model_module": "@jupyter-widgets/controls",
      "model_module_version": "1.5.0",
      "model_name": "ProgressStyleModel",
      "state": {
       "_model_module": "@jupyter-widgets/controls",
       "_model_module_version": "1.5.0",
       "_model_name": "ProgressStyleModel",
       "_view_count": null,
       "_view_module": "@jupyter-widgets/base",
       "_view_module_version": "1.2.0",
       "_view_name": "StyleView",
       "bar_color": null,
       "description_width": ""
      }
     },
     "d1e34181544a4f8badcba9cd8c00fff4": {
      "model_module": "@jupyter-widgets/controls",
      "model_module_version": "1.5.0",
      "model_name": "HTMLModel",
      "state": {
       "_dom_classes": [],
       "_model_module": "@jupyter-widgets/controls",
       "_model_module_version": "1.5.0",
       "_model_name": "HTMLModel",
       "_view_count": null,
       "_view_module": "@jupyter-widgets/controls",
       "_view_module_version": "1.5.0",
       "_view_name": "HTMLView",
       "description": "",
       "description_tooltip": null,
       "layout": "IPY_MODEL_6027fb3e9cbc42d6b771f521e6bd7a74",
       "placeholder": "​",
       "style": "IPY_MODEL_3f0aafde976e49959a2c84537ec01632",
       "value": " 44.7M/44.7M [00:04&lt;00:00, 21.2MB/s]"
      }
     },
     "d89463fa9f444f0ea538c1c5c6f22e6a": {
      "model_module": "@jupyter-widgets/controls",
      "model_module_version": "1.5.0",
      "model_name": "DescriptionStyleModel",
      "state": {
       "_model_module": "@jupyter-widgets/controls",
       "_model_module_version": "1.5.0",
       "_model_name": "DescriptionStyleModel",
       "_view_count": null,
       "_view_module": "@jupyter-widgets/base",
       "_view_module_version": "1.2.0",
       "_view_name": "StyleView",
       "description_width": ""
      }
     },
     "f0431e5b81b54b2f88b223069b4eed6c": {
      "model_module": "@jupyter-widgets/controls",
      "model_module_version": "1.5.0",
      "model_name": "FloatProgressModel",
      "state": {
       "_dom_classes": [],
       "_model_module": "@jupyter-widgets/controls",
       "_model_module_version": "1.5.0",
       "_model_name": "FloatProgressModel",
       "_view_count": null,
       "_view_module": "@jupyter-widgets/controls",
       "_view_module_version": "1.5.0",
       "_view_name": "ProgressView",
       "bar_style": "success",
       "description": "",
       "description_tooltip": null,
       "layout": "IPY_MODEL_8a49a02de1734227a3378537c0a493a7",
       "max": 46830571.0,
       "min": 0.0,
       "orientation": "horizontal",
       "style": "IPY_MODEL_cd4f125c3b304f47ab5adc4cec564dd3",
       "value": 46830571.0
      }
     }
    },
    "version_major": 2,
    "version_minor": 0
   }
  }
 },
 "nbformat": 4,
 "nbformat_minor": 5
}
